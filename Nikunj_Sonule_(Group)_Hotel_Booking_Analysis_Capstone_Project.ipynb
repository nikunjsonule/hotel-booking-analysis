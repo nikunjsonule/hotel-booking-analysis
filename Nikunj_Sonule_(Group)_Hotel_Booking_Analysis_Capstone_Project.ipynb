{
  "nbformat": 4,
  "nbformat_minor": 0,
  "metadata": {
    "kernelspec": {
      "display_name": "Python 3",
      "language": "python",
      "name": "python3"
    },
    "language_info": {
      "codemirror_mode": {
        "name": "ipython",
        "version": 3
      },
      "file_extension": ".py",
      "mimetype": "text/x-python",
      "name": "python",
      "nbconvert_exporter": "python",
      "pygments_lexer": "ipython3",
      "version": "3.6.6"
    },
    "colab": {
      "name": "Nikunj Sonule (Group) -Hotel Booking Analysis - Capstone Project.ipynb",
      "provenance": [],
      "collapsed_sections": [],
      "include_colab_link": true
    }
  },
  "cells": [
    {
      "cell_type": "markdown",
      "metadata": {
        "id": "view-in-github",
        "colab_type": "text"
      },
      "source": [
        "<a href=\"https://colab.research.google.com/github/nikunjsonule/hotel-booking-analysis/blob/main/Nikunj_Sonule_(Group)_Hotel_Booking_Analysis_Capstone_Project.ipynb\" target=\"_parent\"><img src=\"https://colab.research.google.com/assets/colab-badge.svg\" alt=\"Open In Colab\"/></a>"
      ]
    },
    {
      "cell_type": "markdown",
      "metadata": {
        "id": "Y06xIdG26kRF"
      },
      "source": [
        "## <b> Have you ever wondered when the best time of year to book a hotel room is? Or the optimal length of stay in order to get the best daily rate? What if you wanted to predict whether or not a hotel was likely to receive a disproportionately high number of special requests? This hotel booking dataset can help you explore those questions!\n",
        "\n",
        "## <b>This data set contains booking information for a city hotel and a resort hotel, and includes information such as when the booking was made, length of stay, the number of adults, children, and/or babies, and the number of available parking spaces, among other things. All personally identifying information has been removed from the data. </b>\n",
        "\n",
        "## <b> Explore and analyze the data to discover important factors that govern the bookings. </b>"
      ]
    },
    {
      "cell_type": "markdown",
      "metadata": {
        "id": "gkZMk1FK0KlQ"
      },
      "source": [
        "# Context"
      ]
    },
    {
      "cell_type": "markdown",
      "metadata": {
        "id": "z4hSiL5A0OW-"
      },
      "source": [
        "Have you ever wondered when the best time of year to book a hotel room is? Or the optimal length of stay in order to get the best daily rate? What if you wanted to predict whether or not a hotel was likely to receive a disproportionately high number of special requests?\n",
        "\n",
        "This hotel booking dataset can help you explore those questions!"
      ]
    },
    {
      "cell_type": "markdown",
      "metadata": {
        "id": "iQOvvyvr0TWq"
      },
      "source": [
        "# Content"
      ]
    },
    {
      "cell_type": "markdown",
      "metadata": {
        "id": "3Ay4gMMY0Wny"
      },
      "source": [
        "This data set contains booking information for a city hotel and a resort hotel, and includes information such as when the booking was made, length of stay, the number of adults, children, and/or babies, and the number of available parking spaces, among other things.\n",
        "\n",
        "All personally identifying information has been removed from the data."
      ]
    },
    {
      "cell_type": "markdown",
      "metadata": {
        "id": "TLMiINkP2eIJ"
      },
      "source": [
        " **Why Hotel booking analysis is important ?**"
      ]
    },
    {
      "cell_type": "markdown",
      "metadata": {
        "id": "PH7uw6Hz2xup"
      },
      "source": [
        "Hotel data analytics refers to qualitative and quantitative processes and techniques used to enhance productivity, marketing strategies, occupancy rates, and yield. The hotel data is first extracted and then categorized to identify and analyze behavioral data and patterns. The techniques used can vary depending on the business requirements.\n",
        "Analyzing booking patterns shows the demand trends which you can use to implement dynamic pricing.\n",
        "\n",
        "Data is of two types: big and small, and both of these can be structured and unstructured. So, how do you use data to make better decisions for your hotel? The answer is hotel data analytics.\n",
        "Data analytics opens doors to limitless opportunities. In this dynamically evolving hotel industry, data analytics is a powerful technology that can help hotel owners make relevant business decisions. \n"
      ]
    },
    {
      "cell_type": "markdown",
      "metadata": {
        "id": "BMzSkfyM0hGA"
      },
      "source": [
        "# We will analysis some problem statement realted to customer hotel bookings \n",
        "\n",
        "We have divide the analysis part in four parts for easy understanding -\n",
        "\n",
        "*   Booking analysis based on datasets available\n",
        "*   Cancellation analysis\n",
        "*   General analysis \n",
        "*   Analysis to understand for betterment of business perspective\n",
        "\n",
        "\n"
      ]
    },
    {
      "cell_type": "markdown",
      "metadata": {
        "id": "AjUgB853wisJ"
      },
      "source": [
        "# Firstly.....what we can do to understand"
      ]
    },
    {
      "cell_type": "markdown",
      "metadata": {
        "id": "WaKwvWMewv6U"
      },
      "source": [
        "To understand the problem and analysis it we have to look firstly to dataset. Dataset shows how data is been represent in column and rows, so whenever we create variable we can use those column and data for analysis."
      ]
    },
    {
      "cell_type": "markdown",
      "metadata": {
        "id": "P76Nbsm_XSRK"
      },
      "source": [
        "# The first step in EDA process is Data Preprocessing and Cleaning\n",
        "\n",
        "**Import Packages**\n",
        "\n",
        "First Import necessary packages and import the dataset"
      ]
    },
    {
      "cell_type": "code",
      "metadata": {
        "id": "oIyOZguaa0W-",
        "colab": {
          "base_uri": "https://localhost:8080/"
        },
        "outputId": "6c5524af-345c-43f5-80ca-ef145d9a7636"
      },
      "source": [
        "!pip install pycountry\n",
        "\n",
        "import numpy as np\n",
        "import pandas as pd\n",
        "import matplotlib.pyplot as plt\n",
        "%matplotlib inline\n",
        "import seaborn as sns\n",
        "import pycountry as pc\n",
        "import matplotlib.ticker as mtick\n",
        "import plotly.express as px\n",
        "\n"
      ],
      "execution_count": null,
      "outputs": [
        {
          "output_type": "stream",
          "name": "stdout",
          "text": [
            "Collecting pycountry\n",
            "  Downloading pycountry-20.7.3.tar.gz (10.1 MB)\n",
            "\u001b[K     |████████████████████████████████| 10.1 MB 5.5 MB/s \n",
            "\u001b[?25hBuilding wheels for collected packages: pycountry\n",
            "  Building wheel for pycountry (setup.py) ... \u001b[?25l\u001b[?25hdone\n",
            "  Created wheel for pycountry: filename=pycountry-20.7.3-py2.py3-none-any.whl size=10746883 sha256=3df240c464f642c2f603a4c610a8d152849200a4953051288b2ca8a28f443028\n",
            "  Stored in directory: /root/.cache/pip/wheels/57/e8/3f/120ccc1ff7541c108bc5d656e2a14c39da0d824653b62284c6\n",
            "Successfully built pycountry\n",
            "Installing collected packages: pycountry\n",
            "Successfully installed pycountry-20.7.3\n"
          ]
        }
      ]
    },
    {
      "cell_type": "markdown",
      "metadata": {
        "id": "KREN0PjubC7Z"
      },
      "source": [
        "Now importing and display the dataset"
      ]
    },
    {
      "cell_type": "code",
      "metadata": {
        "id": "GNTxkfU3bXNO",
        "colab": {
          "base_uri": "https://localhost:8080/"
        },
        "outputId": "a6e5b68d-9a01-45e9-99b3-4ae3998fa4de"
      },
      "source": [
        "from google.colab import drive\n",
        "drive.mount('/content/drive')"
      ],
      "execution_count": null,
      "outputs": [
        {
          "output_type": "stream",
          "name": "stdout",
          "text": [
            "Mounted at /content/drive\n"
          ]
        }
      ]
    },
    {
      "cell_type": "code",
      "metadata": {
        "id": "SATt0AJjbkT8",
        "colab": {
          "base_uri": "https://localhost:8080/",
          "height": 309
        },
        "outputId": "491b0717-06e6-4c7d-dd9f-e457aca33a83"
      },
      "source": [
        "#importing data and show first 5 rows\n",
        "data = pd.read_csv(\"/content/drive/MyDrive/Colab Notebooks/All project/EDA/Hotel Booking Analysis/Hotel Bookings.csv\")\n",
        "data.head()"
      ],
      "execution_count": null,
      "outputs": [
        {
          "output_type": "execute_result",
          "data": {
            "text/html": [
              "<div>\n",
              "<style scoped>\n",
              "    .dataframe tbody tr th:only-of-type {\n",
              "        vertical-align: middle;\n",
              "    }\n",
              "\n",
              "    .dataframe tbody tr th {\n",
              "        vertical-align: top;\n",
              "    }\n",
              "\n",
              "    .dataframe thead th {\n",
              "        text-align: right;\n",
              "    }\n",
              "</style>\n",
              "<table border=\"1\" class=\"dataframe\">\n",
              "  <thead>\n",
              "    <tr style=\"text-align: right;\">\n",
              "      <th></th>\n",
              "      <th>hotel</th>\n",
              "      <th>is_canceled</th>\n",
              "      <th>lead_time</th>\n",
              "      <th>arrival_date_year</th>\n",
              "      <th>arrival_date_month</th>\n",
              "      <th>arrival_date_week_number</th>\n",
              "      <th>arrival_date_day_of_month</th>\n",
              "      <th>stays_in_weekend_nights</th>\n",
              "      <th>stays_in_week_nights</th>\n",
              "      <th>adults</th>\n",
              "      <th>children</th>\n",
              "      <th>babies</th>\n",
              "      <th>meal</th>\n",
              "      <th>country</th>\n",
              "      <th>market_segment</th>\n",
              "      <th>distribution_channel</th>\n",
              "      <th>is_repeated_guest</th>\n",
              "      <th>previous_cancellations</th>\n",
              "      <th>previous_bookings_not_canceled</th>\n",
              "      <th>reserved_room_type</th>\n",
              "      <th>assigned_room_type</th>\n",
              "      <th>booking_changes</th>\n",
              "      <th>deposit_type</th>\n",
              "      <th>agent</th>\n",
              "      <th>company</th>\n",
              "      <th>days_in_waiting_list</th>\n",
              "      <th>customer_type</th>\n",
              "      <th>adr</th>\n",
              "      <th>required_car_parking_spaces</th>\n",
              "      <th>total_of_special_requests</th>\n",
              "      <th>reservation_status</th>\n",
              "      <th>reservation_status_date</th>\n",
              "    </tr>\n",
              "  </thead>\n",
              "  <tbody>\n",
              "    <tr>\n",
              "      <th>0</th>\n",
              "      <td>Resort Hotel</td>\n",
              "      <td>0</td>\n",
              "      <td>342</td>\n",
              "      <td>2015</td>\n",
              "      <td>July</td>\n",
              "      <td>27</td>\n",
              "      <td>1</td>\n",
              "      <td>0</td>\n",
              "      <td>0</td>\n",
              "      <td>2</td>\n",
              "      <td>0.0</td>\n",
              "      <td>0</td>\n",
              "      <td>BB</td>\n",
              "      <td>PRT</td>\n",
              "      <td>Direct</td>\n",
              "      <td>Direct</td>\n",
              "      <td>0</td>\n",
              "      <td>0</td>\n",
              "      <td>0</td>\n",
              "      <td>C</td>\n",
              "      <td>C</td>\n",
              "      <td>3</td>\n",
              "      <td>No Deposit</td>\n",
              "      <td>NaN</td>\n",
              "      <td>NaN</td>\n",
              "      <td>0</td>\n",
              "      <td>Transient</td>\n",
              "      <td>0.0</td>\n",
              "      <td>0</td>\n",
              "      <td>0</td>\n",
              "      <td>Check-Out</td>\n",
              "      <td>2015-07-01</td>\n",
              "    </tr>\n",
              "    <tr>\n",
              "      <th>1</th>\n",
              "      <td>Resort Hotel</td>\n",
              "      <td>0</td>\n",
              "      <td>737</td>\n",
              "      <td>2015</td>\n",
              "      <td>July</td>\n",
              "      <td>27</td>\n",
              "      <td>1</td>\n",
              "      <td>0</td>\n",
              "      <td>0</td>\n",
              "      <td>2</td>\n",
              "      <td>0.0</td>\n",
              "      <td>0</td>\n",
              "      <td>BB</td>\n",
              "      <td>PRT</td>\n",
              "      <td>Direct</td>\n",
              "      <td>Direct</td>\n",
              "      <td>0</td>\n",
              "      <td>0</td>\n",
              "      <td>0</td>\n",
              "      <td>C</td>\n",
              "      <td>C</td>\n",
              "      <td>4</td>\n",
              "      <td>No Deposit</td>\n",
              "      <td>NaN</td>\n",
              "      <td>NaN</td>\n",
              "      <td>0</td>\n",
              "      <td>Transient</td>\n",
              "      <td>0.0</td>\n",
              "      <td>0</td>\n",
              "      <td>0</td>\n",
              "      <td>Check-Out</td>\n",
              "      <td>2015-07-01</td>\n",
              "    </tr>\n",
              "    <tr>\n",
              "      <th>2</th>\n",
              "      <td>Resort Hotel</td>\n",
              "      <td>0</td>\n",
              "      <td>7</td>\n",
              "      <td>2015</td>\n",
              "      <td>July</td>\n",
              "      <td>27</td>\n",
              "      <td>1</td>\n",
              "      <td>0</td>\n",
              "      <td>1</td>\n",
              "      <td>1</td>\n",
              "      <td>0.0</td>\n",
              "      <td>0</td>\n",
              "      <td>BB</td>\n",
              "      <td>GBR</td>\n",
              "      <td>Direct</td>\n",
              "      <td>Direct</td>\n",
              "      <td>0</td>\n",
              "      <td>0</td>\n",
              "      <td>0</td>\n",
              "      <td>A</td>\n",
              "      <td>C</td>\n",
              "      <td>0</td>\n",
              "      <td>No Deposit</td>\n",
              "      <td>NaN</td>\n",
              "      <td>NaN</td>\n",
              "      <td>0</td>\n",
              "      <td>Transient</td>\n",
              "      <td>75.0</td>\n",
              "      <td>0</td>\n",
              "      <td>0</td>\n",
              "      <td>Check-Out</td>\n",
              "      <td>2015-07-02</td>\n",
              "    </tr>\n",
              "    <tr>\n",
              "      <th>3</th>\n",
              "      <td>Resort Hotel</td>\n",
              "      <td>0</td>\n",
              "      <td>13</td>\n",
              "      <td>2015</td>\n",
              "      <td>July</td>\n",
              "      <td>27</td>\n",
              "      <td>1</td>\n",
              "      <td>0</td>\n",
              "      <td>1</td>\n",
              "      <td>1</td>\n",
              "      <td>0.0</td>\n",
              "      <td>0</td>\n",
              "      <td>BB</td>\n",
              "      <td>GBR</td>\n",
              "      <td>Corporate</td>\n",
              "      <td>Corporate</td>\n",
              "      <td>0</td>\n",
              "      <td>0</td>\n",
              "      <td>0</td>\n",
              "      <td>A</td>\n",
              "      <td>A</td>\n",
              "      <td>0</td>\n",
              "      <td>No Deposit</td>\n",
              "      <td>304.0</td>\n",
              "      <td>NaN</td>\n",
              "      <td>0</td>\n",
              "      <td>Transient</td>\n",
              "      <td>75.0</td>\n",
              "      <td>0</td>\n",
              "      <td>0</td>\n",
              "      <td>Check-Out</td>\n",
              "      <td>2015-07-02</td>\n",
              "    </tr>\n",
              "    <tr>\n",
              "      <th>4</th>\n",
              "      <td>Resort Hotel</td>\n",
              "      <td>0</td>\n",
              "      <td>14</td>\n",
              "      <td>2015</td>\n",
              "      <td>July</td>\n",
              "      <td>27</td>\n",
              "      <td>1</td>\n",
              "      <td>0</td>\n",
              "      <td>2</td>\n",
              "      <td>2</td>\n",
              "      <td>0.0</td>\n",
              "      <td>0</td>\n",
              "      <td>BB</td>\n",
              "      <td>GBR</td>\n",
              "      <td>Online TA</td>\n",
              "      <td>TA/TO</td>\n",
              "      <td>0</td>\n",
              "      <td>0</td>\n",
              "      <td>0</td>\n",
              "      <td>A</td>\n",
              "      <td>A</td>\n",
              "      <td>0</td>\n",
              "      <td>No Deposit</td>\n",
              "      <td>240.0</td>\n",
              "      <td>NaN</td>\n",
              "      <td>0</td>\n",
              "      <td>Transient</td>\n",
              "      <td>98.0</td>\n",
              "      <td>0</td>\n",
              "      <td>1</td>\n",
              "      <td>Check-Out</td>\n",
              "      <td>2015-07-03</td>\n",
              "    </tr>\n",
              "  </tbody>\n",
              "</table>\n",
              "</div>"
            ],
            "text/plain": [
              "          hotel  is_canceled  ...  reservation_status  reservation_status_date\n",
              "0  Resort Hotel            0  ...           Check-Out               2015-07-01\n",
              "1  Resort Hotel            0  ...           Check-Out               2015-07-01\n",
              "2  Resort Hotel            0  ...           Check-Out               2015-07-02\n",
              "3  Resort Hotel            0  ...           Check-Out               2015-07-02\n",
              "4  Resort Hotel            0  ...           Check-Out               2015-07-03\n",
              "\n",
              "[5 rows x 32 columns]"
            ]
          },
          "metadata": {},
          "execution_count": 4
        }
      ]
    },
    {
      "cell_type": "code",
      "metadata": {
        "id": "iT2ItpOtc3_s",
        "colab": {
          "base_uri": "https://localhost:8080/"
        },
        "outputId": "11939fbe-3ec6-4b80-ef9d-e2c73fa3d0fa"
      },
      "source": [
        "# Columns in the datasets\n",
        "data.columns"
      ],
      "execution_count": null,
      "outputs": [
        {
          "output_type": "execute_result",
          "data": {
            "text/plain": [
              "Index(['hotel', 'is_canceled', 'lead_time', 'arrival_date_year',\n",
              "       'arrival_date_month', 'arrival_date_week_number',\n",
              "       'arrival_date_day_of_month', 'stays_in_weekend_nights',\n",
              "       'stays_in_week_nights', 'adults', 'children', 'babies', 'meal',\n",
              "       'country', 'market_segment', 'distribution_channel',\n",
              "       'is_repeated_guest', 'previous_cancellations',\n",
              "       'previous_bookings_not_canceled', 'reserved_room_type',\n",
              "       'assigned_room_type', 'booking_changes', 'deposit_type', 'agent',\n",
              "       'company', 'days_in_waiting_list', 'customer_type', 'adr',\n",
              "       'required_car_parking_spaces', 'total_of_special_requests',\n",
              "       'reservation_status', 'reservation_status_date'],\n",
              "      dtype='object')"
            ]
          },
          "metadata": {},
          "execution_count": 5
        }
      ]
    },
    {
      "cell_type": "markdown",
      "metadata": {
        "id": "LgtZNUgioBBQ"
      },
      "source": [
        "\n",
        "First copy the dataset, so our original dataset remains unchanged"
      ]
    },
    {
      "cell_type": "code",
      "metadata": {
        "id": "IFyGs782oCiS"
      },
      "source": [
        "# Using this data frame for all analysis\n",
        "hotel_data_copy= data.copy()"
      ],
      "execution_count": null,
      "outputs": []
    },
    {
      "cell_type": "code",
      "metadata": {
        "id": "BDlF0IM9ocnM",
        "colab": {
          "base_uri": "https://localhost:8080/",
          "height": 309
        },
        "outputId": "8840d496-742d-4954-80e0-a8bcfc74321d"
      },
      "source": [
        "hotel_data_copy.head()"
      ],
      "execution_count": null,
      "outputs": [
        {
          "output_type": "execute_result",
          "data": {
            "text/html": [
              "<div>\n",
              "<style scoped>\n",
              "    .dataframe tbody tr th:only-of-type {\n",
              "        vertical-align: middle;\n",
              "    }\n",
              "\n",
              "    .dataframe tbody tr th {\n",
              "        vertical-align: top;\n",
              "    }\n",
              "\n",
              "    .dataframe thead th {\n",
              "        text-align: right;\n",
              "    }\n",
              "</style>\n",
              "<table border=\"1\" class=\"dataframe\">\n",
              "  <thead>\n",
              "    <tr style=\"text-align: right;\">\n",
              "      <th></th>\n",
              "      <th>hotel</th>\n",
              "      <th>is_canceled</th>\n",
              "      <th>lead_time</th>\n",
              "      <th>arrival_date_year</th>\n",
              "      <th>arrival_date_month</th>\n",
              "      <th>arrival_date_week_number</th>\n",
              "      <th>arrival_date_day_of_month</th>\n",
              "      <th>stays_in_weekend_nights</th>\n",
              "      <th>stays_in_week_nights</th>\n",
              "      <th>adults</th>\n",
              "      <th>children</th>\n",
              "      <th>babies</th>\n",
              "      <th>meal</th>\n",
              "      <th>country</th>\n",
              "      <th>market_segment</th>\n",
              "      <th>distribution_channel</th>\n",
              "      <th>is_repeated_guest</th>\n",
              "      <th>previous_cancellations</th>\n",
              "      <th>previous_bookings_not_canceled</th>\n",
              "      <th>reserved_room_type</th>\n",
              "      <th>assigned_room_type</th>\n",
              "      <th>booking_changes</th>\n",
              "      <th>deposit_type</th>\n",
              "      <th>agent</th>\n",
              "      <th>company</th>\n",
              "      <th>days_in_waiting_list</th>\n",
              "      <th>customer_type</th>\n",
              "      <th>adr</th>\n",
              "      <th>required_car_parking_spaces</th>\n",
              "      <th>total_of_special_requests</th>\n",
              "      <th>reservation_status</th>\n",
              "      <th>reservation_status_date</th>\n",
              "    </tr>\n",
              "  </thead>\n",
              "  <tbody>\n",
              "    <tr>\n",
              "      <th>0</th>\n",
              "      <td>Resort Hotel</td>\n",
              "      <td>0</td>\n",
              "      <td>342</td>\n",
              "      <td>2015</td>\n",
              "      <td>July</td>\n",
              "      <td>27</td>\n",
              "      <td>1</td>\n",
              "      <td>0</td>\n",
              "      <td>0</td>\n",
              "      <td>2</td>\n",
              "      <td>0.0</td>\n",
              "      <td>0</td>\n",
              "      <td>BB</td>\n",
              "      <td>PRT</td>\n",
              "      <td>Direct</td>\n",
              "      <td>Direct</td>\n",
              "      <td>0</td>\n",
              "      <td>0</td>\n",
              "      <td>0</td>\n",
              "      <td>C</td>\n",
              "      <td>C</td>\n",
              "      <td>3</td>\n",
              "      <td>No Deposit</td>\n",
              "      <td>NaN</td>\n",
              "      <td>NaN</td>\n",
              "      <td>0</td>\n",
              "      <td>Transient</td>\n",
              "      <td>0.0</td>\n",
              "      <td>0</td>\n",
              "      <td>0</td>\n",
              "      <td>Check-Out</td>\n",
              "      <td>2015-07-01</td>\n",
              "    </tr>\n",
              "    <tr>\n",
              "      <th>1</th>\n",
              "      <td>Resort Hotel</td>\n",
              "      <td>0</td>\n",
              "      <td>737</td>\n",
              "      <td>2015</td>\n",
              "      <td>July</td>\n",
              "      <td>27</td>\n",
              "      <td>1</td>\n",
              "      <td>0</td>\n",
              "      <td>0</td>\n",
              "      <td>2</td>\n",
              "      <td>0.0</td>\n",
              "      <td>0</td>\n",
              "      <td>BB</td>\n",
              "      <td>PRT</td>\n",
              "      <td>Direct</td>\n",
              "      <td>Direct</td>\n",
              "      <td>0</td>\n",
              "      <td>0</td>\n",
              "      <td>0</td>\n",
              "      <td>C</td>\n",
              "      <td>C</td>\n",
              "      <td>4</td>\n",
              "      <td>No Deposit</td>\n",
              "      <td>NaN</td>\n",
              "      <td>NaN</td>\n",
              "      <td>0</td>\n",
              "      <td>Transient</td>\n",
              "      <td>0.0</td>\n",
              "      <td>0</td>\n",
              "      <td>0</td>\n",
              "      <td>Check-Out</td>\n",
              "      <td>2015-07-01</td>\n",
              "    </tr>\n",
              "    <tr>\n",
              "      <th>2</th>\n",
              "      <td>Resort Hotel</td>\n",
              "      <td>0</td>\n",
              "      <td>7</td>\n",
              "      <td>2015</td>\n",
              "      <td>July</td>\n",
              "      <td>27</td>\n",
              "      <td>1</td>\n",
              "      <td>0</td>\n",
              "      <td>1</td>\n",
              "      <td>1</td>\n",
              "      <td>0.0</td>\n",
              "      <td>0</td>\n",
              "      <td>BB</td>\n",
              "      <td>GBR</td>\n",
              "      <td>Direct</td>\n",
              "      <td>Direct</td>\n",
              "      <td>0</td>\n",
              "      <td>0</td>\n",
              "      <td>0</td>\n",
              "      <td>A</td>\n",
              "      <td>C</td>\n",
              "      <td>0</td>\n",
              "      <td>No Deposit</td>\n",
              "      <td>NaN</td>\n",
              "      <td>NaN</td>\n",
              "      <td>0</td>\n",
              "      <td>Transient</td>\n",
              "      <td>75.0</td>\n",
              "      <td>0</td>\n",
              "      <td>0</td>\n",
              "      <td>Check-Out</td>\n",
              "      <td>2015-07-02</td>\n",
              "    </tr>\n",
              "    <tr>\n",
              "      <th>3</th>\n",
              "      <td>Resort Hotel</td>\n",
              "      <td>0</td>\n",
              "      <td>13</td>\n",
              "      <td>2015</td>\n",
              "      <td>July</td>\n",
              "      <td>27</td>\n",
              "      <td>1</td>\n",
              "      <td>0</td>\n",
              "      <td>1</td>\n",
              "      <td>1</td>\n",
              "      <td>0.0</td>\n",
              "      <td>0</td>\n",
              "      <td>BB</td>\n",
              "      <td>GBR</td>\n",
              "      <td>Corporate</td>\n",
              "      <td>Corporate</td>\n",
              "      <td>0</td>\n",
              "      <td>0</td>\n",
              "      <td>0</td>\n",
              "      <td>A</td>\n",
              "      <td>A</td>\n",
              "      <td>0</td>\n",
              "      <td>No Deposit</td>\n",
              "      <td>304.0</td>\n",
              "      <td>NaN</td>\n",
              "      <td>0</td>\n",
              "      <td>Transient</td>\n",
              "      <td>75.0</td>\n",
              "      <td>0</td>\n",
              "      <td>0</td>\n",
              "      <td>Check-Out</td>\n",
              "      <td>2015-07-02</td>\n",
              "    </tr>\n",
              "    <tr>\n",
              "      <th>4</th>\n",
              "      <td>Resort Hotel</td>\n",
              "      <td>0</td>\n",
              "      <td>14</td>\n",
              "      <td>2015</td>\n",
              "      <td>July</td>\n",
              "      <td>27</td>\n",
              "      <td>1</td>\n",
              "      <td>0</td>\n",
              "      <td>2</td>\n",
              "      <td>2</td>\n",
              "      <td>0.0</td>\n",
              "      <td>0</td>\n",
              "      <td>BB</td>\n",
              "      <td>GBR</td>\n",
              "      <td>Online TA</td>\n",
              "      <td>TA/TO</td>\n",
              "      <td>0</td>\n",
              "      <td>0</td>\n",
              "      <td>0</td>\n",
              "      <td>A</td>\n",
              "      <td>A</td>\n",
              "      <td>0</td>\n",
              "      <td>No Deposit</td>\n",
              "      <td>240.0</td>\n",
              "      <td>NaN</td>\n",
              "      <td>0</td>\n",
              "      <td>Transient</td>\n",
              "      <td>98.0</td>\n",
              "      <td>0</td>\n",
              "      <td>1</td>\n",
              "      <td>Check-Out</td>\n",
              "      <td>2015-07-03</td>\n",
              "    </tr>\n",
              "  </tbody>\n",
              "</table>\n",
              "</div>"
            ],
            "text/plain": [
              "          hotel  is_canceled  ...  reservation_status  reservation_status_date\n",
              "0  Resort Hotel            0  ...           Check-Out               2015-07-01\n",
              "1  Resort Hotel            0  ...           Check-Out               2015-07-01\n",
              "2  Resort Hotel            0  ...           Check-Out               2015-07-02\n",
              "3  Resort Hotel            0  ...           Check-Out               2015-07-02\n",
              "4  Resort Hotel            0  ...           Check-Out               2015-07-03\n",
              "\n",
              "[5 rows x 32 columns]"
            ]
          },
          "metadata": {},
          "execution_count": 7
        }
      ]
    },
    {
      "cell_type": "markdown",
      "metadata": {
        "id": "A-I3gpU7oqQf"
      },
      "source": [
        "**Finding  number of null and missing values**"
      ]
    },
    {
      "cell_type": "code",
      "metadata": {
        "id": "o_LpZ8oao3X6",
        "colab": {
          "base_uri": "https://localhost:8080/"
        },
        "outputId": "31f3c40e-6f7c-4e20-de8b-7b3117aaa4af"
      },
      "source": [
        "#Find out the data type of each column \n",
        "hotel_data_copy.info()"
      ],
      "execution_count": null,
      "outputs": [
        {
          "output_type": "stream",
          "name": "stdout",
          "text": [
            "<class 'pandas.core.frame.DataFrame'>\n",
            "RangeIndex: 119390 entries, 0 to 119389\n",
            "Data columns (total 32 columns):\n",
            " #   Column                          Non-Null Count   Dtype  \n",
            "---  ------                          --------------   -----  \n",
            " 0   hotel                           119390 non-null  object \n",
            " 1   is_canceled                     119390 non-null  int64  \n",
            " 2   lead_time                       119390 non-null  int64  \n",
            " 3   arrival_date_year               119390 non-null  int64  \n",
            " 4   arrival_date_month              119390 non-null  object \n",
            " 5   arrival_date_week_number        119390 non-null  int64  \n",
            " 6   arrival_date_day_of_month       119390 non-null  int64  \n",
            " 7   stays_in_weekend_nights         119390 non-null  int64  \n",
            " 8   stays_in_week_nights            119390 non-null  int64  \n",
            " 9   adults                          119390 non-null  int64  \n",
            " 10  children                        119386 non-null  float64\n",
            " 11  babies                          119390 non-null  int64  \n",
            " 12  meal                            119390 non-null  object \n",
            " 13  country                         118902 non-null  object \n",
            " 14  market_segment                  119390 non-null  object \n",
            " 15  distribution_channel            119390 non-null  object \n",
            " 16  is_repeated_guest               119390 non-null  int64  \n",
            " 17  previous_cancellations          119390 non-null  int64  \n",
            " 18  previous_bookings_not_canceled  119390 non-null  int64  \n",
            " 19  reserved_room_type              119390 non-null  object \n",
            " 20  assigned_room_type              119390 non-null  object \n",
            " 21  booking_changes                 119390 non-null  int64  \n",
            " 22  deposit_type                    119390 non-null  object \n",
            " 23  agent                           103050 non-null  float64\n",
            " 24  company                         6797 non-null    float64\n",
            " 25  days_in_waiting_list            119390 non-null  int64  \n",
            " 26  customer_type                   119390 non-null  object \n",
            " 27  adr                             119390 non-null  float64\n",
            " 28  required_car_parking_spaces     119390 non-null  int64  \n",
            " 29  total_of_special_requests       119390 non-null  int64  \n",
            " 30  reservation_status              119390 non-null  object \n",
            " 31  reservation_status_date         119390 non-null  object \n",
            "dtypes: float64(4), int64(16), object(12)\n",
            "memory usage: 29.1+ MB\n"
          ]
        }
      ]
    },
    {
      "cell_type": "code",
      "metadata": {
        "id": "TWUztZFrsH4q",
        "colab": {
          "base_uri": "https://localhost:8080/"
        },
        "outputId": "2353902f-2591-4053-89c9-56b14dc8b162"
      },
      "source": [
        "hotel_data_copy.shape"
      ],
      "execution_count": null,
      "outputs": [
        {
          "output_type": "execute_result",
          "data": {
            "text/plain": [
              "(119390, 32)"
            ]
          },
          "metadata": {},
          "execution_count": 9
        }
      ]
    },
    {
      "cell_type": "code",
      "metadata": {
        "id": "r15Xv7TXsK5h"
      },
      "source": [
        "# droping unwanted columns \n",
        "hotel_data_copy.drop(['company','agent'], axis = 1,inplace = True)"
      ],
      "execution_count": null,
      "outputs": []
    },
    {
      "cell_type": "code",
      "metadata": {
        "id": "CueDmebtsXan",
        "colab": {
          "base_uri": "https://localhost:8080/"
        },
        "outputId": "525dda6b-d5e0-4c8c-c20c-1de45c26bc5f"
      },
      "source": [
        "hotel_data_copy.info()\n"
      ],
      "execution_count": null,
      "outputs": [
        {
          "output_type": "stream",
          "name": "stdout",
          "text": [
            "<class 'pandas.core.frame.DataFrame'>\n",
            "RangeIndex: 119390 entries, 0 to 119389\n",
            "Data columns (total 30 columns):\n",
            " #   Column                          Non-Null Count   Dtype  \n",
            "---  ------                          --------------   -----  \n",
            " 0   hotel                           119390 non-null  object \n",
            " 1   is_canceled                     119390 non-null  int64  \n",
            " 2   lead_time                       119390 non-null  int64  \n",
            " 3   arrival_date_year               119390 non-null  int64  \n",
            " 4   arrival_date_month              119390 non-null  object \n",
            " 5   arrival_date_week_number        119390 non-null  int64  \n",
            " 6   arrival_date_day_of_month       119390 non-null  int64  \n",
            " 7   stays_in_weekend_nights         119390 non-null  int64  \n",
            " 8   stays_in_week_nights            119390 non-null  int64  \n",
            " 9   adults                          119390 non-null  int64  \n",
            " 10  children                        119386 non-null  float64\n",
            " 11  babies                          119390 non-null  int64  \n",
            " 12  meal                            119390 non-null  object \n",
            " 13  country                         118902 non-null  object \n",
            " 14  market_segment                  119390 non-null  object \n",
            " 15  distribution_channel            119390 non-null  object \n",
            " 16  is_repeated_guest               119390 non-null  int64  \n",
            " 17  previous_cancellations          119390 non-null  int64  \n",
            " 18  previous_bookings_not_canceled  119390 non-null  int64  \n",
            " 19  reserved_room_type              119390 non-null  object \n",
            " 20  assigned_room_type              119390 non-null  object \n",
            " 21  booking_changes                 119390 non-null  int64  \n",
            " 22  deposit_type                    119390 non-null  object \n",
            " 23  days_in_waiting_list            119390 non-null  int64  \n",
            " 24  customer_type                   119390 non-null  object \n",
            " 25  adr                             119390 non-null  float64\n",
            " 26  required_car_parking_spaces     119390 non-null  int64  \n",
            " 27  total_of_special_requests       119390 non-null  int64  \n",
            " 28  reservation_status              119390 non-null  object \n",
            " 29  reservation_status_date         119390 non-null  object \n",
            "dtypes: float64(2), int64(16), object(12)\n",
            "memory usage: 27.3+ MB\n"
          ]
        }
      ]
    },
    {
      "cell_type": "markdown",
      "metadata": {
        "id": "OhkH0Ty8sg_8"
      },
      "source": [
        "**Creating childs column from babies and children**\n",
        "\n",
        "We can look after problem statement of adults and childs for analysis. So, we are adding new column named childs i.e merging both babies and children column."
      ]
    },
    {
      "cell_type": "code",
      "metadata": {
        "id": "e4qCjWVWsokg"
      },
      "source": [
        "hotel_data_copy['childs'] = hotel_data_copy['babies'] + hotel_data_copy['children']"
      ],
      "execution_count": null,
      "outputs": []
    },
    {
      "cell_type": "code",
      "metadata": {
        "id": "tCC1-SkHszkL",
        "colab": {
          "base_uri": "https://localhost:8080/"
        },
        "outputId": "de71d077-54da-4f1a-981c-3917d9e126c5"
      },
      "source": [
        "hotel_data_copy.info()"
      ],
      "execution_count": null,
      "outputs": [
        {
          "output_type": "stream",
          "name": "stdout",
          "text": [
            "<class 'pandas.core.frame.DataFrame'>\n",
            "RangeIndex: 119390 entries, 0 to 119389\n",
            "Data columns (total 31 columns):\n",
            " #   Column                          Non-Null Count   Dtype  \n",
            "---  ------                          --------------   -----  \n",
            " 0   hotel                           119390 non-null  object \n",
            " 1   is_canceled                     119390 non-null  int64  \n",
            " 2   lead_time                       119390 non-null  int64  \n",
            " 3   arrival_date_year               119390 non-null  int64  \n",
            " 4   arrival_date_month              119390 non-null  object \n",
            " 5   arrival_date_week_number        119390 non-null  int64  \n",
            " 6   arrival_date_day_of_month       119390 non-null  int64  \n",
            " 7   stays_in_weekend_nights         119390 non-null  int64  \n",
            " 8   stays_in_week_nights            119390 non-null  int64  \n",
            " 9   adults                          119390 non-null  int64  \n",
            " 10  children                        119386 non-null  float64\n",
            " 11  babies                          119390 non-null  int64  \n",
            " 12  meal                            119390 non-null  object \n",
            " 13  country                         118902 non-null  object \n",
            " 14  market_segment                  119390 non-null  object \n",
            " 15  distribution_channel            119390 non-null  object \n",
            " 16  is_repeated_guest               119390 non-null  int64  \n",
            " 17  previous_cancellations          119390 non-null  int64  \n",
            " 18  previous_bookings_not_canceled  119390 non-null  int64  \n",
            " 19  reserved_room_type              119390 non-null  object \n",
            " 20  assigned_room_type              119390 non-null  object \n",
            " 21  booking_changes                 119390 non-null  int64  \n",
            " 22  deposit_type                    119390 non-null  object \n",
            " 23  days_in_waiting_list            119390 non-null  int64  \n",
            " 24  customer_type                   119390 non-null  object \n",
            " 25  adr                             119390 non-null  float64\n",
            " 26  required_car_parking_spaces     119390 non-null  int64  \n",
            " 27  total_of_special_requests       119390 non-null  int64  \n",
            " 28  reservation_status              119390 non-null  object \n",
            " 29  reservation_status_date         119390 non-null  object \n",
            " 30  childs                          119386 non-null  float64\n",
            "dtypes: float64(3), int64(16), object(12)\n",
            "memory usage: 28.2+ MB\n"
          ]
        }
      ]
    },
    {
      "cell_type": "markdown",
      "metadata": {
        "id": "mr9GpFbQ2CRs"
      },
      "source": [
        "In the real world, data is never 100% percent perfect, 100% accurate, and 100% complete. By nature, data is full of errors: omissions, inconsistencies, and duplicates.\n",
        "That’s why understanding the data quality process is important for many businesses trying to sort out their data."
      ]
    },
    {
      "cell_type": "code",
      "metadata": {
        "id": "1ZKrVvoJs4Ww"
      },
      "source": [
        "# Droping babies and children column as for further analysis we have taken childs column\n",
        "# droping unwanted columns \n",
        "hotel_data_copy.drop(['babies','children'], axis = 1,inplace = True)"
      ],
      "execution_count": null,
      "outputs": []
    },
    {
      "cell_type": "code",
      "metadata": {
        "id": "LGcTKd68uuqZ",
        "colab": {
          "base_uri": "https://localhost:8080/"
        },
        "outputId": "565d5d00-95c8-4408-8049-72bed975b334"
      },
      "source": [
        "hotel_data_copy.info()"
      ],
      "execution_count": null,
      "outputs": [
        {
          "output_type": "stream",
          "name": "stdout",
          "text": [
            "<class 'pandas.core.frame.DataFrame'>\n",
            "RangeIndex: 119390 entries, 0 to 119389\n",
            "Data columns (total 29 columns):\n",
            " #   Column                          Non-Null Count   Dtype  \n",
            "---  ------                          --------------   -----  \n",
            " 0   hotel                           119390 non-null  object \n",
            " 1   is_canceled                     119390 non-null  int64  \n",
            " 2   lead_time                       119390 non-null  int64  \n",
            " 3   arrival_date_year               119390 non-null  int64  \n",
            " 4   arrival_date_month              119390 non-null  object \n",
            " 5   arrival_date_week_number        119390 non-null  int64  \n",
            " 6   arrival_date_day_of_month       119390 non-null  int64  \n",
            " 7   stays_in_weekend_nights         119390 non-null  int64  \n",
            " 8   stays_in_week_nights            119390 non-null  int64  \n",
            " 9   adults                          119390 non-null  int64  \n",
            " 10  meal                            119390 non-null  object \n",
            " 11  country                         118902 non-null  object \n",
            " 12  market_segment                  119390 non-null  object \n",
            " 13  distribution_channel            119390 non-null  object \n",
            " 14  is_repeated_guest               119390 non-null  int64  \n",
            " 15  previous_cancellations          119390 non-null  int64  \n",
            " 16  previous_bookings_not_canceled  119390 non-null  int64  \n",
            " 17  reserved_room_type              119390 non-null  object \n",
            " 18  assigned_room_type              119390 non-null  object \n",
            " 19  booking_changes                 119390 non-null  int64  \n",
            " 20  deposit_type                    119390 non-null  object \n",
            " 21  days_in_waiting_list            119390 non-null  int64  \n",
            " 22  customer_type                   119390 non-null  object \n",
            " 23  adr                             119390 non-null  float64\n",
            " 24  required_car_parking_spaces     119390 non-null  int64  \n",
            " 25  total_of_special_requests       119390 non-null  int64  \n",
            " 26  reservation_status              119390 non-null  object \n",
            " 27  reservation_status_date         119390 non-null  object \n",
            " 28  childs                          119386 non-null  float64\n",
            "dtypes: float64(2), int64(15), object(12)\n",
            "memory usage: 26.4+ MB\n"
          ]
        }
      ]
    },
    {
      "cell_type": "markdown",
      "metadata": {
        "id": "adSxnJR7vCTv"
      },
      "source": [
        "Now dataset contains 119390 columns and 29 rows"
      ]
    },
    {
      "cell_type": "code",
      "metadata": {
        "id": "ixgfLGd5u3eV",
        "colab": {
          "base_uri": "https://localhost:8080/"
        },
        "outputId": "9a03505e-a37c-4ff2-97df-a43f2ad51be4"
      },
      "source": [
        "hotel_data_copy.shape"
      ],
      "execution_count": null,
      "outputs": [
        {
          "output_type": "execute_result",
          "data": {
            "text/plain": [
              "(119390, 29)"
            ]
          },
          "metadata": {},
          "execution_count": 16
        }
      ]
    },
    {
      "cell_type": "markdown",
      "metadata": {
        "id": "zQALsPRWvPu7"
      },
      "source": [
        "Droping Duplicates from data set"
      ]
    },
    {
      "cell_type": "code",
      "metadata": {
        "id": "zqo3bkXZvUP4"
      },
      "source": [
        "# drop duplicate values in data frame\n",
        "hotel_data_copy = hotel_data_copy.drop_duplicates()\n"
      ],
      "execution_count": null,
      "outputs": []
    },
    {
      "cell_type": "code",
      "metadata": {
        "id": "v-fpVycBv-fp",
        "colab": {
          "base_uri": "https://localhost:8080/"
        },
        "outputId": "90897d49-fdf7-43b0-c679-94b7e41676c9"
      },
      "source": [
        "hotel_data_copy.shape"
      ],
      "execution_count": null,
      "outputs": [
        {
          "output_type": "execute_result",
          "data": {
            "text/plain": [
              "(87369, 29)"
            ]
          },
          "metadata": {},
          "execution_count": 18
        }
      ]
    },
    {
      "cell_type": "markdown",
      "metadata": {
        "id": "V1Iz_idzwFD6"
      },
      "source": [
        "Now we can find the missing values"
      ]
    },
    {
      "cell_type": "code",
      "metadata": {
        "id": "bNqW4llXwMdw",
        "colab": {
          "base_uri": "https://localhost:8080/"
        },
        "outputId": "962e874b-71f4-4e97-ef5b-5ad261b8e543"
      },
      "source": [
        "#check null values in Data frame\n",
        "hotel_data_copy.isnull().sum()"
      ],
      "execution_count": null,
      "outputs": [
        {
          "output_type": "execute_result",
          "data": {
            "text/plain": [
              "hotel                               0\n",
              "is_canceled                         0\n",
              "lead_time                           0\n",
              "arrival_date_year                   0\n",
              "arrival_date_month                  0\n",
              "arrival_date_week_number            0\n",
              "arrival_date_day_of_month           0\n",
              "stays_in_weekend_nights             0\n",
              "stays_in_week_nights                0\n",
              "adults                              0\n",
              "meal                                0\n",
              "country                           452\n",
              "market_segment                      0\n",
              "distribution_channel                0\n",
              "is_repeated_guest                   0\n",
              "previous_cancellations              0\n",
              "previous_bookings_not_canceled      0\n",
              "reserved_room_type                  0\n",
              "assigned_room_type                  0\n",
              "booking_changes                     0\n",
              "deposit_type                        0\n",
              "days_in_waiting_list                0\n",
              "customer_type                       0\n",
              "adr                                 0\n",
              "required_car_parking_spaces         0\n",
              "total_of_special_requests           0\n",
              "reservation_status                  0\n",
              "reservation_status_date             0\n",
              "childs                              4\n",
              "dtype: int64"
            ]
          },
          "metadata": {},
          "execution_count": 19
        }
      ]
    },
    {
      "cell_type": "code",
      "metadata": {
        "id": "Bl4tEWBwwbcI"
      },
      "source": [
        "# Droping null values from the dataset\n",
        "hotel_data_copy.dropna(inplace=True)"
      ],
      "execution_count": null,
      "outputs": []
    },
    {
      "cell_type": "code",
      "metadata": {
        "id": "uKM_nwRewn5i",
        "colab": {
          "base_uri": "https://localhost:8080/"
        },
        "outputId": "279fda5f-b399-42e8-fc56-3571dbaed97c"
      },
      "source": [
        "# So after cleaning our datasets we have 86913 columns and 29 rows\n",
        "hotel_data_copy.shape"
      ],
      "execution_count": null,
      "outputs": [
        {
          "output_type": "execute_result",
          "data": {
            "text/plain": [
              "(86913, 29)"
            ]
          },
          "metadata": {},
          "execution_count": 21
        }
      ]
    },
    {
      "cell_type": "markdown",
      "metadata": {
        "id": "SXlcMZiCxI2g"
      },
      "source": [
        "After cleaning the datasets we have following columns for analysis"
      ]
    },
    {
      "cell_type": "code",
      "metadata": {
        "id": "uyT2pE3JxUGt",
        "colab": {
          "base_uri": "https://localhost:8080/"
        },
        "outputId": "fe66b300-afe5-4e1e-fa96-21c824a3cc0a"
      },
      "source": [
        "hotel_data_copy.columns"
      ],
      "execution_count": null,
      "outputs": [
        {
          "output_type": "execute_result",
          "data": {
            "text/plain": [
              "Index(['hotel', 'is_canceled', 'lead_time', 'arrival_date_year',\n",
              "       'arrival_date_month', 'arrival_date_week_number',\n",
              "       'arrival_date_day_of_month', 'stays_in_weekend_nights',\n",
              "       'stays_in_week_nights', 'adults', 'meal', 'country', 'market_segment',\n",
              "       'distribution_channel', 'is_repeated_guest', 'previous_cancellations',\n",
              "       'previous_bookings_not_canceled', 'reserved_room_type',\n",
              "       'assigned_room_type', 'booking_changes', 'deposit_type',\n",
              "       'days_in_waiting_list', 'customer_type', 'adr',\n",
              "       'required_car_parking_spaces', 'total_of_special_requests',\n",
              "       'reservation_status', 'reservation_status_date', 'childs'],\n",
              "      dtype='object')"
            ]
          },
          "metadata": {},
          "execution_count": 22
        }
      ]
    },
    {
      "cell_type": "markdown",
      "metadata": {
        "id": "zTEO5oIc2f0c"
      },
      "source": [
        "# Analysis based on bookings "
      ]
    },
    {
      "cell_type": "markdown",
      "metadata": {
        "id": "oBgaeqmI2SUS"
      },
      "source": [
        "**Analysis no. 1**\n",
        "\n",
        "How many total bookings were made by both the resort and city hotels ?"
      ]
    },
    {
      "cell_type": "code",
      "metadata": {
        "id": "KYwmk4alxrPj",
        "colab": {
          "base_uri": "https://localhost:8080/",
          "height": 443
        },
        "outputId": "ae619ecf-8be1-42dd-c57b-e82098236503"
      },
      "source": [
        "fig, ax = plt.subplots(figsize = (12,5))\n",
        "sns.countplot(hotel_data_copy['hotel'])\n",
        "plt.title(' Hotels booked', weight='bold', size = 20)\n",
        "plt.xlabel('Hotel', size = 10)\n",
        "plt.ylabel('Reservation count', size = 10)\n",
        "\n",
        "for p in ax.patches:\n",
        "    height = p.get_height()\n",
        "    ax.text(p.get_x()+p.get_width()/2, height+500, '{:1.2f}''%'.format(height/hotel_data_copy.shape[0]*100),ha = \"center\")"
      ],
      "execution_count": null,
      "outputs": [
        {
          "output_type": "stream",
          "name": "stderr",
          "text": [
            "/usr/local/lib/python3.7/dist-packages/seaborn/_decorators.py:43: FutureWarning:\n",
            "\n",
            "Pass the following variable as a keyword arg: x. From version 0.12, the only valid positional argument will be `data`, and passing other arguments without an explicit keyword will result in an error or misinterpretation.\n",
            "\n"
          ]
        },
        {
          "output_type": "display_data",
          "data": {
            "image/png": "[encoded data removed]",
            "text/plain": [
              "<Figure size 864x360 with 1 Axes>"
            ]
          },
          "metadata": {
            "needs_background": "light"
          }
        }
      ]
    },
    {
      "cell_type": "markdown",
      "metadata": {
        "id": "ebn_hL5DAn2i"
      },
      "source": [
        "The above bar chart shows that their are 61.44% and 38.56%, City Hotel and Resort Hotel are booked respectively. The reservation count of City Hotel is more as compared to Resort Hotel."
      ]
    },
    {
      "cell_type": "markdown",
      "metadata": {
        "id": "vTHHbGIMyneu"
      },
      "source": [
        "**Analysis no.2**\n",
        "\n",
        "Analysis based on year wise bookings takes place"
      ]
    },
    {
      "cell_type": "code",
      "metadata": {
        "id": "UjC5npCIzvvW",
        "colab": {
          "base_uri": "https://localhost:8080/",
          "height": 463
        },
        "outputId": "a1a866cf-9c14-4244-ae9b-291668dc60ff"
      },
      "source": [
        "fig, ax = plt.subplots(figsize = (12,7))\n",
        "sns.countplot(x=hotel_data_copy['arrival_date_year'], palette = 'rocket_r')\n",
        "plt.title('Year wise Booking count', weight='bold',size = 20)\n",
        "plt.xlabel('Year',size = 10)\n",
        "plt.ylabel('Reservation Count',size = 10)\n",
        "for p in ax.patches:\n",
        "    height = p.get_height()\n",
        "    ax.text(p.get_x()+p.get_width()/2, height+ 1000, '{:1.2f}''%'.format(height/hotel_data_copy.shape[0]*100),ha = \"center\")"
      ],
      "execution_count": null,
      "outputs": [
        {
          "output_type": "display_data",
          "data": {
            "image/png": "[encoded data removed]",
            "text/plain": [
              "<Figure size 864x504 with 1 Axes>"
            ]
          },
          "metadata": {
            "needs_background": "light"
          }
        }
      ]
    },
    {
      "cell_type": "code",
      "metadata": {
        "id": "klhVgCC60m_3",
        "colab": {
          "base_uri": "https://localhost:8080/",
          "height": 429
        },
        "outputId": "8ce478aa-b6b2-4a19-eb9c-9d78cd581f4b"
      },
      "source": [
        "fig, ax = plt.subplots(figsize = (12,7))\n",
        "\n",
        "x = hotel_data_copy.groupby('arrival_date_year')['arrival_date_year'].count()\n",
        "y = x.index.get_level_values(0)\n",
        "explode = (0, 0.05, 0)\n",
        "plt.title('Year wise Booking count', weight='bold',size = 15)\n",
        "\n",
        "plt.pie(x, labels=y, explode = explode, autopct='%1.0f%%',shadow=True, startangle=90, textprops={'fontsize': 13})\n",
        "plt.axis('equal')\n",
        "\n",
        "plt.show()"
      ],
      "execution_count": null,
      "outputs": [
        {
          "output_type": "display_data",
          "data": {
            "image/png": "[encoded data removed]",
            "text/plain": [
              "<Figure size 864x504 with 1 Axes>"
            ]
          },
          "metadata": {}
        }
      ]
    },
    {
      "cell_type": "markdown",
      "metadata": {
        "id": "_cyQgdFzCyeP"
      },
      "source": [
        "In year wise booking 2016 is booked mostly by the customer with 48%, followed by 2017 with 36% and 2015 with 15%."
      ]
    },
    {
      "cell_type": "markdown",
      "metadata": {
        "id": "10riVuVV1PCS"
      },
      "source": [
        "**Analysis no.3**\n",
        "\n",
        "Which are the categories of room booked by customer ?"
      ]
    },
    {
      "cell_type": "code",
      "metadata": {
        "id": "ZURSJL4r1gSK",
        "colab": {
          "base_uri": "https://localhost:8080/",
          "height": 465
        },
        "outputId": "b952a121-1915-424b-92c3-878697a7a194"
      },
      "source": [
        "fig, ax = plt.subplots(figsize = (12,7))\n",
        "\n",
        "\n",
        "x = hotel_data_copy.groupby('reserved_room_type')['reserved_room_type'].count().sort_values(ascending=False)\n",
        "y = x.index.get_level_values(0)\n",
        "\n",
        "sns.barplot(x = y, y=x, palette = 'colorblind')\n",
        "plt.title('Categories of room booked', weight='bold',size = 15)\n",
        "plt.xlabel('Room type reserved',size = 15)\n",
        "plt.ylabel('Reservation Count',size = 15)\n",
        "for p in ax.patches:\n",
        "    height = p.get_height()\n",
        "    ax.text(p.get_x()+p.get_width()/2, height+500, '{:1.2f}''%'.format(height/hotel_data_copy.shape[0]*100),ha = \"center\")"
      ],
      "execution_count": null,
      "outputs": [
        {
          "output_type": "display_data",
          "data": {
            "image/png": "[encoded data removed]",
            "text/plain": [
              "<Figure size 864x504 with 1 Axes>"
            ]
          },
          "metadata": {
            "needs_background": "light"
          }
        }
      ]
    },
    {
      "cell_type": "markdown",
      "metadata": {
        "id": "ty_7dc_nFPsu"
      },
      "source": [
        "The most preferable reserved room type is category A with 64.62%, followed by room type category D with 19.99% and E with 6.91%. All other have minimum rate from 3.24% of F, G with 2.35%, B with 1.14%, C with 1.05%, H with 0.69% and L with 0.01%"
      ]
    },
    {
      "cell_type": "markdown",
      "metadata": {
        "id": "rBc-w0sF1uqo"
      },
      "source": [
        "**Analysis no.4**\n",
        "\n",
        "Through which market segment the customer have to wait more for confirming their booking ?"
      ]
    },
    {
      "cell_type": "code",
      "metadata": {
        "id": "iUfzYQ5X1zOw",
        "colab": {
          "base_uri": "https://localhost:8080/",
          "height": 405
        },
        "outputId": "4c40d11d-2868-4156-e874-536e771cf653"
      },
      "source": [
        "#This is a scatter plot for Market segment and days_in_waiting_list \n",
        "\n",
        "hotel_data_copy.plot.scatter(x='market_segment', y = 'days_in_waiting_list' , figsize = (10,6), title = 'Waiting time for Hotel booking with respect to market segment' , xlabel = 'Market segment', ylabel = 'Days in waiting list')\n",
        "plt.show()"
      ],
      "execution_count": null,
      "outputs": [
        {
          "output_type": "display_data",
          "data": {
            "image/png": "[encoded data removed]",
            "text/plain": [
              "<Figure size 720x432 with 1 Axes>"
            ]
          },
          "metadata": {
            "needs_background": "light"
          }
        }
      ]
    },
    {
      "cell_type": "markdown",
      "metadata": {
        "id": "w2OO6VG3mmFp"
      },
      "source": [
        "The above plot is a scatter plot. Based on Market Segment we Observed that  waiting days for Groups are the highest and least for Aviation. Groups are the highest number of waiting days followed by Offline TA/TO of market segment with most number of waitings.\n",
        "\n"
      ]
    },
    {
      "cell_type": "markdown",
      "metadata": {
        "id": "0AeeIBjV20Ec"
      },
      "source": [
        "# Analysis based on Cancellation"
      ]
    },
    {
      "cell_type": "markdown",
      "metadata": {
        "id": "GeDONkZL27DK"
      },
      "source": [
        "**Analysis no.5**\n",
        "\n",
        "Which were cancelled and non-cancelled bookings made by the customers ?"
      ]
    },
    {
      "cell_type": "code",
      "metadata": {
        "id": "5S2qy-Tp3G-m",
        "colab": {
          "base_uri": "https://localhost:8080/",
          "height": 446
        },
        "outputId": "9042d082-a0aa-4f05-f961-82d33ec3719c"
      },
      "source": [
        "fig, ax = plt.subplots(figsize = (12,7))\n",
        "\n",
        "x = hotel_data_copy.groupby('is_canceled')['is_canceled'].count()\n",
        "y = x.index.get_level_values(0)\n",
        "explode = (0, 0.05)\n",
        "plt.title('Cancellations', weight='bold', size = 15)\n",
        "labels = [r'0: Non-Cancelled', r'1: Cancelled']\n",
        "\n",
        "plt.pie(x, labels=y, explode = explode, autopct='%1.0f%%',shadow=True, startangle=90, textprops={'fontsize': 13})\n",
        "plt.axis('equal')\n",
        "plt.legend(labels, loc=\"best\")"
      ],
      "execution_count": null,
      "outputs": [
        {
          "output_type": "execute_result",
          "data": {
            "text/plain": [
              "<matplotlib.legend.Legend at 0x7f177fc2aa50>"
            ]
          },
          "metadata": {},
          "execution_count": 28
        },
        {
          "output_type": "display_data",
          "data": {
            "image/png": "[encoded data removed]",
            "text/plain": [
              "<Figure size 864x504 with 1 Axes>"
            ]
          },
          "metadata": {}
        }
      ]
    },
    {
      "cell_type": "markdown",
      "metadata": {
        "id": "NKS0qb55rkBc"
      },
      "source": [
        "By Observing the above pie chart , we clearly get the conclusion that 28% of Booking were Cancelled ,and remaining 72% were Succesful (i.e Not- Cancelled). \n",
        "We have taken '0' for non-cancelled and '1' for cancellations."
      ]
    },
    {
      "cell_type": "code",
      "metadata": {
        "id": "UYzJOZxI329p",
        "colab": {
          "base_uri": "https://localhost:8080/",
          "height": 572
        },
        "outputId": "704ef8eb-0793-4983-cdc2-607ba4784b2e"
      },
      "source": [
        "fig, ax = plt.subplots(figsize = (12,7))\n",
        "sns.countplot(hotel_data_copy['is_canceled'], hue = hotel_data_copy['hotel'] )\n",
        "\n",
        "for p in ax.patches:\n",
        "    height = p.get_height()\n",
        "    ax.text(p.get_x()+p.get_width()/2, height+500, '{:1.2f}''%'.format(height/hotel_data_copy.shape[0]*100),ha = \"center\")  \n",
        "plt.title('Hotel-wise most cancellation', weight='bold', size = 15)\n",
        "\n",
        "plt.xlabel('Is_Cancelled', size = 15)\n",
        "plt.ylabel('Reservation Count', size = 15)"
      ],
      "execution_count": null,
      "outputs": [
        {
          "output_type": "stream",
          "name": "stderr",
          "text": [
            "/usr/local/lib/python3.7/dist-packages/seaborn/_decorators.py:43: FutureWarning:\n",
            "\n",
            "Pass the following variable as a keyword arg: x. From version 0.12, the only valid positional argument will be `data`, and passing other arguments without an explicit keyword will result in an error or misinterpretation.\n",
            "\n"
          ]
        },
        {
          "output_type": "execute_result",
          "data": {
            "text/plain": [
              "Text(0, 0.5, 'Reservation Count')"
            ]
          },
          "metadata": {},
          "execution_count": 29
        },
        {
          "output_type": "display_data",
          "data": {
            "image/png": "[encoded data removed]",
            "text/plain": [
              "<Figure size 864x504 with 1 Axes>"
            ]
          },
          "metadata": {
            "needs_background": "light"
          }
        }
      ]
    },
    {
      "cell_type": "markdown",
      "metadata": {
        "id": "OUw8a8Qvs1ke"
      },
      "source": [
        "When we Observe the hotel wise cancellation , we find that Reservation Count of 42.99% of City Hotel were Cancelled, and 29.42% were cancelled for Resort Hotels.\n",
        "Also, there were no-cancellation of 9.14% and 18.45% of reservation count for City hotels and Resorts hotels.\n",
        "Here '0' is for non-cancellation and '1' is for cancellation.\n"
      ]
    },
    {
      "cell_type": "markdown",
      "metadata": {
        "id": "YOaNlOIE_qUH"
      },
      "source": [
        "**Analysis no.6**\n",
        "\n",
        "Impact of lead time on cancellation"
      ]
    },
    {
      "cell_type": "code",
      "metadata": {
        "id": "o4O-MvyW_x8t",
        "colab": {
          "base_uri": "https://localhost:8080/",
          "height": 538
        },
        "outputId": "45f6f5e3-cf72-42fe-fc8a-33b1a765c9b3"
      },
      "source": [
        "fig, ax = plt.subplots(figsize = (10,8))\n",
        "\n",
        "sns.boxplot(y = hotel_data_copy[\"lead_time\"], x = hotel_data_copy['is_canceled'])\n",
        "plt.title('Effect of lead time on cancellation', weight='bold',size= 15)\n",
        "plt.xlabel('Is_Cancelled',size = 15)\n",
        "plt.ylabel('Lead_time',size = 15)"
      ],
      "execution_count": null,
      "outputs": [
        {
          "output_type": "execute_result",
          "data": {
            "text/plain": [
              "Text(0, 0.5, 'Lead_time')"
            ]
          },
          "metadata": {},
          "execution_count": 30
        },
        {
          "output_type": "display_data",
          "data": {
            "image/png": "[encoded data removed]",
            "text/plain": [
              "<Figure size 720x576 with 1 Axes>"
            ]
          },
          "metadata": {
            "needs_background": "light"
          }
        }
      ]
    },
    {
      "cell_type": "markdown",
      "metadata": {
        "id": "hkLu7_HuFCti"
      },
      "source": [
        "\n",
        "\n",
        " The image above is a boxplot. A boxplot is a standardized way of displaying the distribution of data based on a five number summary (“minimum”, first quartile (Q1), median, third quartile (Q3), and “maximum”). It can tell you about your outliers and what their values are. It can also tell you if your data is symmetrical, how tightly your data is grouped, and if and how your data is skewed.\n",
        "\n",
        " Lead time is the time that elapsed between the day when the booking were made and the actual day of checking in. from the box plot it seems that the cancellation normally occurs soon after booking. the chances of cancellation are actually less if sufficient time has elapsed after booking. There may be many reason for this including hotel cancellation policies among many others and this is true for both type of hotels.\n",
        "\n",
        "*   For non-cancellation the plot varies between 0(mimimum) to 280(maximum) and Q1 And Q3 for that is 1 - 110. Also, median is 30.\n",
        "*   For cancellation the plot varies between 0(mimimum) to 350(maximum) and Q1 And Q3 for that is 30 - 175. Also, median is 80.\n",
        "\n",
        "\n",
        "\n",
        "\n",
        "\n",
        "\n"
      ]
    },
    {
      "cell_type": "code",
      "metadata": {
        "id": "KtlZGVInAMSF",
        "colab": {
          "base_uri": "https://localhost:8080/",
          "height": 638
        },
        "outputId": "5298d973-a4e1-4a63-d684-788c1bbf2a7b"
      },
      "source": [
        "\n",
        "sns.FacetGrid(hotel_data_copy, hue=\"is_canceled\", height = 6,aspect=1.5) \\\n",
        "   .map(sns.distplot, \"lead_time\") \\\n",
        "   .add_legend();\n",
        "plt.title('Effect of lead time on cancellation', weight='bold',size = 15)\n",
        "plt.xlabel('Is_Cancelled',size = 15)\n",
        "plt.ylabel('Lead_time',size = 15)"
      ],
      "execution_count": null,
      "outputs": [
        {
          "output_type": "stream",
          "name": "stderr",
          "text": [
            "/usr/local/lib/python3.7/dist-packages/seaborn/distributions.py:2619: FutureWarning:\n",
            "\n",
            "`distplot` is a deprecated function and will be removed in a future version. Please adapt your code to use either `displot` (a figure-level function with similar flexibility) or `histplot` (an axes-level function for histograms).\n",
            "\n",
            "/usr/local/lib/python3.7/dist-packages/seaborn/distributions.py:2619: FutureWarning:\n",
            "\n",
            "`distplot` is a deprecated function and will be removed in a future version. Please adapt your code to use either `displot` (a figure-level function with similar flexibility) or `histplot` (an axes-level function for histograms).\n",
            "\n"
          ]
        },
        {
          "output_type": "execute_result",
          "data": {
            "text/plain": [
              "Text(26.95329861111111, 0.5, 'Lead_time')"
            ]
          },
          "metadata": {},
          "execution_count": 31
        },
        {
          "output_type": "display_data",
          "data": {
            "image/png": "[encoded data removed]",
            "text/plain": [
              "<Figure size 714.125x432 with 1 Axes>"
            ]
          },
          "metadata": {
            "needs_background": "light"
          }
        }
      ]
    },
    {
      "cell_type": "markdown",
      "metadata": {
        "id": "bwejb8Hhu4cW"
      },
      "source": [
        " Dist plots helps us to check the distribuiton of the column feature. Basically it shows the distribution of a univariate set of observations.\n",
        " The lead time of non-cancelled i.e '0' is higher efficiency as compared to cancellation of the booking. The KDE (Kernel Density Estimation) shows the probabality density function is higher of non- cancelled but in cancellation the KDE lead time lie between 0.005 to 0.010.  "
      ]
    },
    {
      "cell_type": "markdown",
      "metadata": {
        "id": "R3rekx3lAPNb"
      },
      "source": [
        "**Analysis no. 7**\n",
        "\n",
        "Cancellation percentage by year"
      ]
    },
    {
      "cell_type": "code",
      "metadata": {
        "id": "ZpTI3S3SAuqY",
        "colab": {
          "base_uri": "https://localhost:8080/",
          "height": 548
        },
        "outputId": "78e48bd6-bbca-4b3a-bd5e-53fbf7da4d27"
      },
      "source": [
        "plt.figure(figsize=(30, 8))\n",
        "plt.subplot(1, 2, 1)\n",
        "\n",
        "sns.barplot(data = hotel_data_copy, x= 'arrival_date_year', y = 'is_canceled',hue = 'hotel' )\n",
        "plt.title('cancellation percentage by year',fontweight=\"bold\", size=25)\n",
        "\n",
        "plt.xlabel('year',size=20)\n",
        "plt.ylabel('cancellation percentage',size=20)"
      ],
      "execution_count": null,
      "outputs": [
        {
          "output_type": "execute_result",
          "data": {
            "text/plain": [
              "Text(0, 0.5, 'cancellation percentage')"
            ]
          },
          "metadata": {},
          "execution_count": 32
        },
        {
          "output_type": "display_data",
          "data": {
            "image/png": "[encoded data removed]",
            "text/plain": [
              "<Figure size 2160x576 with 1 Axes>"
            ]
          },
          "metadata": {
            "needs_background": "light"
          }
        }
      ]
    },
    {
      "cell_type": "markdown",
      "metadata": {
        "id": "38acZrPv8ZeR"
      },
      "source": [
        "Above Graph Describe the cancellation of Hotel year wise where we notice that in the year 2017 there are the most no. of cancellation of both resort and city hotel, followed by the year 2016, and lastly the year 2015 with the least no. of cancellations among the 3 years."
      ]
    },
    {
      "cell_type": "markdown",
      "metadata": {
        "id": "6d6Un2aHBEVr"
      },
      "source": [
        "**Analysis no.8**\n",
        "\n",
        "Which month have highest number of cancellation ?"
      ]
    },
    {
      "cell_type": "code",
      "metadata": {
        "id": "SN_owtDDBVqf",
        "colab": {
          "base_uri": "https://localhost:8080/"
        },
        "outputId": "41be605c-6326-4c43-f62d-efe98c35490d"
      },
      "source": [
        "\n",
        "hotel_data_copy[hotel_data_copy['is_canceled'] == 1]['arrival_date_month'].value_counts()"
      ],
      "execution_count": null,
      "outputs": [
        {
          "output_type": "execute_result",
          "data": {
            "text/plain": [
              "August       3616\n",
              "July         3192\n",
              "May          2442\n",
              "April        2404\n",
              "June         2352\n",
              "March        1829\n",
              "October      1637\n",
              "September    1636\n",
              "February     1414\n",
              "December     1373\n",
              "November     1051\n",
              "January      1037\n",
              "Name: arrival_date_month, dtype: int64"
            ]
          },
          "metadata": {},
          "execution_count": 33
        }
      ]
    },
    {
      "cell_type": "code",
      "metadata": {
        "id": "s2rjy3T4B3JC",
        "colab": {
          "base_uri": "https://localhost:8080/",
          "height": 623
        },
        "outputId": "c5fafe89-1c29-40ee-da0a-326eac123ac8"
      },
      "source": [
        "plt.figure(figsize = (20,10))\n",
        "ax = sns.countplot(x = 'arrival_date_month',hue = 'hotel', data = hotel_data_copy[hotel_data_copy['is_canceled'] == 1])\n",
        "ax.set_ylabel('number_of_cancelation')"
      ],
      "execution_count": null,
      "outputs": [
        {
          "output_type": "execute_result",
          "data": {
            "text/plain": [
              "Text(0, 0.5, 'number_of_cancelation')"
            ]
          },
          "metadata": {},
          "execution_count": 34
        },
        {
          "output_type": "display_data",
          "data": {
            "image/png": "[encoded data removed]",
            "text/plain": [
              "<Figure size 1440x720 with 1 Axes>"
            ]
          },
          "metadata": {
            "needs_background": "light"
          }
        }
      ]
    },
    {
      "cell_type": "markdown",
      "metadata": {
        "id": "7gYRqkHX9IQ8"
      },
      "source": [
        "In this graph we found the cancellation with respect to months.\n",
        "\n",
        "Comparetively to City Hotels , Resort Hotels has less no. of Cancellations."
      ]
    },
    {
      "cell_type": "markdown",
      "metadata": {
        "id": "3ZOP-ir09XHy"
      },
      "source": [
        "CITY HOTEL CANCELLATIONS \n",
        "\n",
        "*   August month has the highest no. of cancellations (i.e it is more that 2000 cancellation).\n",
        "*   Followed by July, April, May, June, March, October, September, December and February.\n",
        "*   And the least no. of cancellations are made in the month of november and january (i.e which are approx. about 750 cancellations).\n",
        "\n",
        "\n",
        "\n",
        "\n",
        "\n",
        "\n"
      ]
    },
    {
      "cell_type": "markdown",
      "metadata": {
        "id": "AR98AVGh-zHY"
      },
      "source": [
        "RESORT HOTEL CANCELLATIONS\n",
        "\n",
        "*   August month has the highest no. of cancellations (i.e it is more that 1500 cancellation).\n",
        "*   Followed by July, June , May, April, September, October,March ,February and December.\n",
        "*   And, the least no. of cancellations are made in the month of november and january (i.e which are approx. between 250-350 cancellations).\n",
        "\n",
        "\n",
        "\n"
      ]
    },
    {
      "cell_type": "markdown",
      "metadata": {
        "id": "yfzD5Z12CGRd"
      },
      "source": [
        "**Analysis no.9**\n",
        "\n",
        "How deposit varies in terms of non-cancellation"
      ]
    },
    {
      "cell_type": "code",
      "metadata": {
        "id": "ELM_GWvkCOr9",
        "colab": {
          "base_uri": "https://localhost:8080/",
          "height": 537
        },
        "outputId": "489e75b6-14ec-4c58-fd2a-bfb9ed5838d1"
      },
      "source": [
        "\n",
        "deposit_df = hotel_data_copy.groupby('deposit_type')['is_canceled'].describe()\n",
        "plt.figure(figsize=(12, 8))\n",
        "sns.barplot(x=deposit_df.index, y=deposit_df[\"mean\"].values * 100)\n",
        "plt.title(\"Deposit varies in terms of non-cancellation\", fontsize=16)\n",
        "plt.xlabel(\"Deposit Type\", fontsize=16)\n",
        "plt.ylabel(\"Non-Cancellations [%]\", fontsize=16)"
      ],
      "execution_count": null,
      "outputs": [
        {
          "output_type": "execute_result",
          "data": {
            "text/plain": [
              "Text(0, 0.5, 'Non-Cancellations [%]')"
            ]
          },
          "metadata": {},
          "execution_count": 35
        },
        {
          "output_type": "display_data",
          "data": {
            "image/png": "[encoded data removed]",
            "text/plain": [
              "<Figure size 864x576 with 1 Axes>"
            ]
          },
          "metadata": {
            "needs_background": "light"
          }
        }
      ]
    },
    {
      "cell_type": "markdown",
      "metadata": {
        "id": "Wib2daAnAdFG"
      },
      "source": [
        "In the Above Graph,\n",
        "\n",
        "*   More than 80% of non - cancellation are non-refundable.\n",
        "*   Also, we see that  20-25% are refundable\n",
        "*   While approx. 30% people haven't deposit any money while booking.\n",
        "\n",
        "\n"
      ]
    },
    {
      "cell_type": "markdown",
      "metadata": {
        "id": "fFN2Kti1GHnB"
      },
      "source": [
        "# General Analysis "
      ]
    },
    {
      "cell_type": "markdown",
      "metadata": {
        "id": "Fg4VJk6xGL1j"
      },
      "source": [
        "**Analysis no. 10**\n",
        "\n",
        "How much does guest pay for a room per night ?"
      ]
    },
    {
      "cell_type": "code",
      "metadata": {
        "id": "ogududoEGWJ_",
        "colab": {
          "base_uri": "https://localhost:8080/",
          "height": 309
        },
        "outputId": "4d679ab5-aefe-4145-d14a-abcf0cab9771"
      },
      "source": [
        "hotel_data_copy.head()"
      ],
      "execution_count": null,
      "outputs": [
        {
          "output_type": "execute_result",
          "data": {
            "text/html": [
              "<div>\n",
              "<style scoped>\n",
              "    .dataframe tbody tr th:only-of-type {\n",
              "        vertical-align: middle;\n",
              "    }\n",
              "\n",
              "    .dataframe tbody tr th {\n",
              "        vertical-align: top;\n",
              "    }\n",
              "\n",
              "    .dataframe thead th {\n",
              "        text-align: right;\n",
              "    }\n",
              "</style>\n",
              "<table border=\"1\" class=\"dataframe\">\n",
              "  <thead>\n",
              "    <tr style=\"text-align: right;\">\n",
              "      <th></th>\n",
              "      <th>hotel</th>\n",
              "      <th>is_canceled</th>\n",
              "      <th>lead_time</th>\n",
              "      <th>arrival_date_year</th>\n",
              "      <th>arrival_date_month</th>\n",
              "      <th>arrival_date_week_number</th>\n",
              "      <th>arrival_date_day_of_month</th>\n",
              "      <th>stays_in_weekend_nights</th>\n",
              "      <th>stays_in_week_nights</th>\n",
              "      <th>adults</th>\n",
              "      <th>meal</th>\n",
              "      <th>country</th>\n",
              "      <th>market_segment</th>\n",
              "      <th>distribution_channel</th>\n",
              "      <th>is_repeated_guest</th>\n",
              "      <th>previous_cancellations</th>\n",
              "      <th>previous_bookings_not_canceled</th>\n",
              "      <th>reserved_room_type</th>\n",
              "      <th>assigned_room_type</th>\n",
              "      <th>booking_changes</th>\n",
              "      <th>deposit_type</th>\n",
              "      <th>days_in_waiting_list</th>\n",
              "      <th>customer_type</th>\n",
              "      <th>adr</th>\n",
              "      <th>required_car_parking_spaces</th>\n",
              "      <th>total_of_special_requests</th>\n",
              "      <th>reservation_status</th>\n",
              "      <th>reservation_status_date</th>\n",
              "      <th>childs</th>\n",
              "    </tr>\n",
              "  </thead>\n",
              "  <tbody>\n",
              "    <tr>\n",
              "      <th>0</th>\n",
              "      <td>Resort Hotel</td>\n",
              "      <td>0</td>\n",
              "      <td>342</td>\n",
              "      <td>2015</td>\n",
              "      <td>July</td>\n",
              "      <td>27</td>\n",
              "      <td>1</td>\n",
              "      <td>0</td>\n",
              "      <td>0</td>\n",
              "      <td>2</td>\n",
              "      <td>BB</td>\n",
              "      <td>PRT</td>\n",
              "      <td>Direct</td>\n",
              "      <td>Direct</td>\n",
              "      <td>0</td>\n",
              "      <td>0</td>\n",
              "      <td>0</td>\n",
              "      <td>C</td>\n",
              "      <td>C</td>\n",
              "      <td>3</td>\n",
              "      <td>No Deposit</td>\n",
              "      <td>0</td>\n",
              "      <td>Transient</td>\n",
              "      <td>0.0</td>\n",
              "      <td>0</td>\n",
              "      <td>0</td>\n",
              "      <td>Check-Out</td>\n",
              "      <td>2015-07-01</td>\n",
              "      <td>0.0</td>\n",
              "    </tr>\n",
              "    <tr>\n",
              "      <th>1</th>\n",
              "      <td>Resort Hotel</td>\n",
              "      <td>0</td>\n",
              "      <td>737</td>\n",
              "      <td>2015</td>\n",
              "      <td>July</td>\n",
              "      <td>27</td>\n",
              "      <td>1</td>\n",
              "      <td>0</td>\n",
              "      <td>0</td>\n",
              "      <td>2</td>\n",
              "      <td>BB</td>\n",
              "      <td>PRT</td>\n",
              "      <td>Direct</td>\n",
              "      <td>Direct</td>\n",
              "      <td>0</td>\n",
              "      <td>0</td>\n",
              "      <td>0</td>\n",
              "      <td>C</td>\n",
              "      <td>C</td>\n",
              "      <td>4</td>\n",
              "      <td>No Deposit</td>\n",
              "      <td>0</td>\n",
              "      <td>Transient</td>\n",
              "      <td>0.0</td>\n",
              "      <td>0</td>\n",
              "      <td>0</td>\n",
              "      <td>Check-Out</td>\n",
              "      <td>2015-07-01</td>\n",
              "      <td>0.0</td>\n",
              "    </tr>\n",
              "    <tr>\n",
              "      <th>2</th>\n",
              "      <td>Resort Hotel</td>\n",
              "      <td>0</td>\n",
              "      <td>7</td>\n",
              "      <td>2015</td>\n",
              "      <td>July</td>\n",
              "      <td>27</td>\n",
              "      <td>1</td>\n",
              "      <td>0</td>\n",
              "      <td>1</td>\n",
              "      <td>1</td>\n",
              "      <td>BB</td>\n",
              "      <td>GBR</td>\n",
              "      <td>Direct</td>\n",
              "      <td>Direct</td>\n",
              "      <td>0</td>\n",
              "      <td>0</td>\n",
              "      <td>0</td>\n",
              "      <td>A</td>\n",
              "      <td>C</td>\n",
              "      <td>0</td>\n",
              "      <td>No Deposit</td>\n",
              "      <td>0</td>\n",
              "      <td>Transient</td>\n",
              "      <td>75.0</td>\n",
              "      <td>0</td>\n",
              "      <td>0</td>\n",
              "      <td>Check-Out</td>\n",
              "      <td>2015-07-02</td>\n",
              "      <td>0.0</td>\n",
              "    </tr>\n",
              "    <tr>\n",
              "      <th>3</th>\n",
              "      <td>Resort Hotel</td>\n",
              "      <td>0</td>\n",
              "      <td>13</td>\n",
              "      <td>2015</td>\n",
              "      <td>July</td>\n",
              "      <td>27</td>\n",
              "      <td>1</td>\n",
              "      <td>0</td>\n",
              "      <td>1</td>\n",
              "      <td>1</td>\n",
              "      <td>BB</td>\n",
              "      <td>GBR</td>\n",
              "      <td>Corporate</td>\n",
              "      <td>Corporate</td>\n",
              "      <td>0</td>\n",
              "      <td>0</td>\n",
              "      <td>0</td>\n",
              "      <td>A</td>\n",
              "      <td>A</td>\n",
              "      <td>0</td>\n",
              "      <td>No Deposit</td>\n",
              "      <td>0</td>\n",
              "      <td>Transient</td>\n",
              "      <td>75.0</td>\n",
              "      <td>0</td>\n",
              "      <td>0</td>\n",
              "      <td>Check-Out</td>\n",
              "      <td>2015-07-02</td>\n",
              "      <td>0.0</td>\n",
              "    </tr>\n",
              "    <tr>\n",
              "      <th>4</th>\n",
              "      <td>Resort Hotel</td>\n",
              "      <td>0</td>\n",
              "      <td>14</td>\n",
              "      <td>2015</td>\n",
              "      <td>July</td>\n",
              "      <td>27</td>\n",
              "      <td>1</td>\n",
              "      <td>0</td>\n",
              "      <td>2</td>\n",
              "      <td>2</td>\n",
              "      <td>BB</td>\n",
              "      <td>GBR</td>\n",
              "      <td>Online TA</td>\n",
              "      <td>TA/TO</td>\n",
              "      <td>0</td>\n",
              "      <td>0</td>\n",
              "      <td>0</td>\n",
              "      <td>A</td>\n",
              "      <td>A</td>\n",
              "      <td>0</td>\n",
              "      <td>No Deposit</td>\n",
              "      <td>0</td>\n",
              "      <td>Transient</td>\n",
              "      <td>98.0</td>\n",
              "      <td>0</td>\n",
              "      <td>1</td>\n",
              "      <td>Check-Out</td>\n",
              "      <td>2015-07-03</td>\n",
              "      <td>0.0</td>\n",
              "    </tr>\n",
              "  </tbody>\n",
              "</table>\n",
              "</div>"
            ],
            "text/plain": [
              "          hotel  is_canceled  ...  reservation_status_date  childs\n",
              "0  Resort Hotel            0  ...               2015-07-01     0.0\n",
              "1  Resort Hotel            0  ...               2015-07-01     0.0\n",
              "2  Resort Hotel            0  ...               2015-07-02     0.0\n",
              "3  Resort Hotel            0  ...               2015-07-02     0.0\n",
              "4  Resort Hotel            0  ...               2015-07-03     0.0\n",
              "\n",
              "[5 rows x 29 columns]"
            ]
          },
          "metadata": {},
          "execution_count": 36
        }
      ]
    },
    {
      "cell_type": "code",
      "metadata": {
        "id": "7_HR_Z-FG6g9"
      },
      "source": [
        "#creating new dataframe so we can do our anlaysis non cancelled room only\n",
        "\n",
        "room_type_category = hotel_data_copy[hotel_data_copy['is_canceled']==0]"
      ],
      "execution_count": null,
      "outputs": []
    },
    {
      "cell_type": "code",
      "metadata": {
        "id": "TITKb5VtHZqL",
        "colab": {
          "base_uri": "https://localhost:8080/",
          "height": 513
        },
        "outputId": "e4c0be89-8821-4074-b158-8a4599488563"
      },
      "source": [
        "#ploting box plot fro analysis\n",
        "\n",
        "plt.figure(figsize=(12,8))\n",
        "sns.boxplot(x='reserved_room_type', y ='adr',data = room_type_category,hue='hotel')\n",
        "plt.title('price of room types per night per person')\n",
        "plt.xlabel('Room Type')\n",
        "plt.ylabel('price')\n",
        "plt.show()"
      ],
      "execution_count": null,
      "outputs": [
        {
          "output_type": "display_data",
          "data": {
            "image/png": "[encoded data removed]",
            "text/plain": [
              "<Figure size 864x576 with 1 Axes>"
            ]
          },
          "metadata": {
            "needs_background": "light"
          }
        }
      ]
    },
    {
      "cell_type": "markdown",
      "metadata": {
        "id": "Jw_V6VciHl8J"
      },
      "source": [
        "We can see in the above figure that with repect to \"A\" category room it has highest price appox as outlier\n",
        "\n",
        "whereas with respect to 'G' category room of city hotel are much costlier than other"
      ]
    },
    {
      "cell_type": "markdown",
      "metadata": {
        "id": "enrCzc5XHoPC"
      },
      "source": [
        "**Analysis no. 11**\n",
        "\n",
        "Which are the most busy month ?"
      ]
    },
    {
      "cell_type": "code",
      "metadata": {
        "id": "Q09w4d9hHxpK",
        "colab": {
          "base_uri": "https://localhost:8080/",
          "height": 373
        },
        "outputId": "08398381-abda-4976-ec8a-055972820340"
      },
      "source": [
        "plt.figure(figsize=(20,5))\n",
        "\n",
        "sns.countplot(data = hotel_data_copy, x = 'arrival_date_month', hue = 'hotel', order = ['January', 'February', 'March', 'April', 'May', 'June', 'July',\n",
        "          'August', 'September', 'October', 'November', 'December']).set_title('Graph showing number of arrival per month',fontsize=20)"
      ],
      "execution_count": null,
      "outputs": [
        {
          "output_type": "execute_result",
          "data": {
            "text/plain": [
              "Text(0.5, 1.0, 'Graph showing number of arrival per month')"
            ]
          },
          "metadata": {},
          "execution_count": 39
        },
        {
          "output_type": "display_data",
          "data": {
            "image/png": "[encoded data removed]",
            "text/plain": [
              "<Figure size 1440x360 with 1 Axes>"
            ]
          },
          "metadata": {
            "needs_background": "light"
          }
        }
      ]
    },
    {
      "cell_type": "markdown",
      "metadata": {
        "id": "53NqcAiQIAUB"
      },
      "source": [
        "According to the above graph the most busy month is August\n",
        "\n"
      ]
    },
    {
      "cell_type": "markdown",
      "metadata": {
        "id": "7VmjfAP4IB2p"
      },
      "source": [
        "**Analysis no. 12**\n",
        "\n",
        "Which meals were most preferrable to the customer ?"
      ]
    },
    {
      "cell_type": "code",
      "metadata": {
        "id": "GdTXKzegIPQg",
        "colab": {
          "base_uri": "https://localhost:8080/",
          "height": 575
        },
        "outputId": "a5d82445-c1c2-4cac-cad9-31f1dcc9b996"
      },
      "source": [
        "# Enlarging the pie chart\n",
        "plt.rcParams['figure.figsize'] = 10,10\n",
        "\n",
        "#Making list of  not cancelled\n",
        "# Assigning labels and converting them to list \n",
        "\n",
        "labels = hotel_data_copy['meal'].value_counts().index\n",
        "\n",
        "# Assigning sizes and converting to list\n",
        "\n",
        "sizes = hotel_data_copy['meal'].value_counts().tolist()\n",
        "\n",
        "# Autopct enables you to display the percent value using python string formatting. .1f% will round off to the tenth place\n",
        "plt.pie(sizes,labels=labels,autopct='%0.1f%%')\n",
        "plt.show()"
      ],
      "execution_count": null,
      "outputs": [
        {
          "output_type": "display_data",
          "data": {
            "image/png": "[encoded data removed]",
            "text/plain": [
              "<Figure size 720x720 with 1 Axes>"
            ]
          },
          "metadata": {}
        }
      ]
    },
    {
      "cell_type": "markdown",
      "metadata": {
        "id": "jXdfK2urIkdM"
      },
      "source": [
        "\n",
        "We can see from above pie chart that most preferrable meal is BB(77.4% appx) i.e Bed and Breakfast"
      ]
    },
    {
      "cell_type": "markdown",
      "metadata": {
        "id": "KvKg9sL5Il8M"
      },
      "source": [
        "**Analysis no. 13**\n",
        "\n",
        "How long does guest stay at hotel on weekends and weekdays ?\n"
      ]
    },
    {
      "cell_type": "code",
      "metadata": {
        "id": "s_HUfP_jIxbU",
        "colab": {
          "base_uri": "https://localhost:8080/",
          "height": 899
        },
        "outputId": "4b4dffaf-e03b-4425-c419-46e86ea9b1f2"
      },
      "source": [
        "plt.figure(figsize=(15, 15))\n",
        "plt.subplot(1, 2, 1)\n",
        "sns.countplot(data = hotel_data_copy, x = 'stays_in_week_nights',hue='hotel' ,palette='cool')\n",
        "plt.title(\"Number of stays on week nights\",fontweight=\"bold\", size=20)\n",
        "plt.grid()\n",
        "\n",
        "plt.subplot(1, 2, 2)\n",
        "sns.countplot(data = hotel_data_copy, x = 'stays_in_week_nights', hue='is_canceled', palette='rocket')\n",
        "plt.title('WeekStay vs Cancelation',fontweight=\"bold\", size=20)\n",
        "plt.grid()\n",
        "\n",
        "plt.show()"
      ],
      "execution_count": null,
      "outputs": [
        {
          "output_type": "display_data",
          "data": {
            "image/png": "[encoded data removed]",
            "text/plain": [
              "<Figure size 1080x1080 with 2 Axes>"
            ]
          },
          "metadata": {
            "needs_background": "light"
          }
        }
      ]
    },
    {
      "cell_type": "markdown",
      "metadata": {
        "id": "dnbTZcqTJIz9"
      },
      "source": [
        "We can see from graph that most people are staying at hotel for 2 nights in week days\n",
        "\n",
        "And second graph is showing that most cancellation is done for room which is booked for 2 night stay and we also see that most booking were not cancelled for 1 night stay"
      ]
    },
    {
      "cell_type": "code",
      "metadata": {
        "id": "_YzqfSEMJLbc",
        "colab": {
          "base_uri": "https://localhost:8080/",
          "height": 519
        },
        "outputId": "a79b89c5-f619-4c38-8ada-65da11293c9e"
      },
      "source": [
        "plt.figure(figsize=(15, 8))\n",
        "plt.subplot(1, 2, 1)\n",
        "sns.countplot(data = hotel_data_copy, x = 'stays_in_weekend_nights',hue='hotel' ,palette='cool')\n",
        "plt.title(\"Number of stays on weekend nights\",fontweight=\"bold\", size=20)\n",
        "plt.grid()\n",
        "\n",
        "plt.subplot(1, 2, 2)\n",
        "sns.countplot(data = hotel_data_copy, x = 'stays_in_weekend_nights', hue='is_canceled', palette='rocket')\n",
        "plt.title('WeekendStay vs Cancelation',fontweight=\"bold\", size=20)\n",
        "plt.grid()\n",
        "\n",
        "plt.show()"
      ],
      "execution_count": null,
      "outputs": [
        {
          "output_type": "display_data",
          "data": {
            "image/png": "[encoded data removed]",
            "text/plain": [
              "<Figure size 1080x576 with 2 Axes>"
            ]
          },
          "metadata": {
            "needs_background": "light"
          }
        }
      ]
    },
    {
      "cell_type": "markdown",
      "metadata": {
        "id": "nup9skPZJXvk"
      },
      "source": [
        "More number People prefer to stay at city hotel in weekend for 0,1 and 2 nights\n",
        "\n",
        "People staying for more than 2 night prefer to stay in Resort hotel\n",
        "\n",
        "In next graph we can see that we have less number of cancellation of booking for weekends"
      ]
    },
    {
      "cell_type": "markdown",
      "metadata": {
        "id": "KvrAbQhfJgbr"
      },
      "source": [
        "**Analysis no. 14**\n",
        "\n",
        "How many adults and childs guests arrived per month in each hotels?"
      ]
    },
    {
      "cell_type": "code",
      "metadata": {
        "id": "TNBKK5p3LF_f",
        "colab": {
          "base_uri": "https://localhost:8080/",
          "height": 861
        },
        "outputId": "48a83263-5ec5-4892-8277-0f0697881fc5"
      },
      "source": [
        "#Total bookings\n",
        "total_bookings = hotel_data_copy.groupby(['hotel','arrival_date_month'])['adults','childs'].sum().reset_index()\n",
        "total_bookings"
      ],
      "execution_count": null,
      "outputs": [
        {
          "output_type": "stream",
          "name": "stderr",
          "text": [
            "/usr/local/lib/python3.7/dist-packages/ipykernel_launcher.py:2: FutureWarning:\n",
            "\n",
            "Indexing with multiple keys (implicitly converted to a tuple of keys) will be deprecated, use a list instead.\n",
            "\n"
          ]
        },
        {
          "output_type": "execute_result",
          "data": {
            "text/html": [
              "<div>\n",
              "<style scoped>\n",
              "    .dataframe tbody tr th:only-of-type {\n",
              "        vertical-align: middle;\n",
              "    }\n",
              "\n",
              "    .dataframe tbody tr th {\n",
              "        vertical-align: top;\n",
              "    }\n",
              "\n",
              "    .dataframe thead th {\n",
              "        text-align: right;\n",
              "    }\n",
              "</style>\n",
              "<table border=\"1\" class=\"dataframe\">\n",
              "  <thead>\n",
              "    <tr style=\"text-align: right;\">\n",
              "      <th></th>\n",
              "      <th>hotel</th>\n",
              "      <th>arrival_date_month</th>\n",
              "      <th>adults</th>\n",
              "      <th>childs</th>\n",
              "    </tr>\n",
              "  </thead>\n",
              "  <tbody>\n",
              "    <tr>\n",
              "      <th>0</th>\n",
              "      <td>City Hotel</td>\n",
              "      <td>April</td>\n",
              "      <td>9805</td>\n",
              "      <td>785.0</td>\n",
              "    </tr>\n",
              "    <tr>\n",
              "      <th>1</th>\n",
              "      <td>City Hotel</td>\n",
              "      <td>August</td>\n",
              "      <td>13188</td>\n",
              "      <td>1532.0</td>\n",
              "    </tr>\n",
              "    <tr>\n",
              "      <th>2</th>\n",
              "      <td>City Hotel</td>\n",
              "      <td>December</td>\n",
              "      <td>5688</td>\n",
              "      <td>522.0</td>\n",
              "    </tr>\n",
              "    <tr>\n",
              "      <th>3</th>\n",
              "      <td>City Hotel</td>\n",
              "      <td>February</td>\n",
              "      <td>6576</td>\n",
              "      <td>518.0</td>\n",
              "    </tr>\n",
              "    <tr>\n",
              "      <th>4</th>\n",
              "      <td>City Hotel</td>\n",
              "      <td>January</td>\n",
              "      <td>4801</td>\n",
              "      <td>333.0</td>\n",
              "    </tr>\n",
              "    <tr>\n",
              "      <th>5</th>\n",
              "      <td>City Hotel</td>\n",
              "      <td>July</td>\n",
              "      <td>11535</td>\n",
              "      <td>1201.0</td>\n",
              "    </tr>\n",
              "    <tr>\n",
              "      <th>6</th>\n",
              "      <td>City Hotel</td>\n",
              "      <td>June</td>\n",
              "      <td>9447</td>\n",
              "      <td>575.0</td>\n",
              "    </tr>\n",
              "    <tr>\n",
              "      <th>7</th>\n",
              "      <td>City Hotel</td>\n",
              "      <td>March</td>\n",
              "      <td>8989</td>\n",
              "      <td>462.0</td>\n",
              "    </tr>\n",
              "    <tr>\n",
              "      <th>8</th>\n",
              "      <td>City Hotel</td>\n",
              "      <td>May</td>\n",
              "      <td>9993</td>\n",
              "      <td>493.0</td>\n",
              "    </tr>\n",
              "    <tr>\n",
              "      <th>9</th>\n",
              "      <td>City Hotel</td>\n",
              "      <td>November</td>\n",
              "      <td>4999</td>\n",
              "      <td>182.0</td>\n",
              "    </tr>\n",
              "    <tr>\n",
              "      <th>10</th>\n",
              "      <td>City Hotel</td>\n",
              "      <td>October</td>\n",
              "      <td>7566</td>\n",
              "      <td>450.0</td>\n",
              "    </tr>\n",
              "    <tr>\n",
              "      <th>11</th>\n",
              "      <td>City Hotel</td>\n",
              "      <td>September</td>\n",
              "      <td>7623</td>\n",
              "      <td>382.0</td>\n",
              "    </tr>\n",
              "    <tr>\n",
              "      <th>12</th>\n",
              "      <td>Resort Hotel</td>\n",
              "      <td>April</td>\n",
              "      <td>5049</td>\n",
              "      <td>376.0</td>\n",
              "    </tr>\n",
              "    <tr>\n",
              "      <th>13</th>\n",
              "      <td>Resort Hotel</td>\n",
              "      <td>August</td>\n",
              "      <td>9463</td>\n",
              "      <td>1400.0</td>\n",
              "    </tr>\n",
              "    <tr>\n",
              "      <th>14</th>\n",
              "      <td>Resort Hotel</td>\n",
              "      <td>December</td>\n",
              "      <td>3711</td>\n",
              "      <td>273.0</td>\n",
              "    </tr>\n",
              "    <tr>\n",
              "      <th>15</th>\n",
              "      <td>Resort Hotel</td>\n",
              "      <td>February</td>\n",
              "      <td>4367</td>\n",
              "      <td>309.0</td>\n",
              "    </tr>\n",
              "    <tr>\n",
              "      <th>16</th>\n",
              "      <td>Resort Hotel</td>\n",
              "      <td>January</td>\n",
              "      <td>3237</td>\n",
              "      <td>157.0</td>\n",
              "    </tr>\n",
              "    <tr>\n",
              "      <th>17</th>\n",
              "      <td>Resort Hotel</td>\n",
              "      <td>July</td>\n",
              "      <td>8617</td>\n",
              "      <td>1205.0</td>\n",
              "    </tr>\n",
              "    <tr>\n",
              "      <th>18</th>\n",
              "      <td>Resort Hotel</td>\n",
              "      <td>June</td>\n",
              "      <td>5278</td>\n",
              "      <td>517.0</td>\n",
              "    </tr>\n",
              "    <tr>\n",
              "      <th>19</th>\n",
              "      <td>Resort Hotel</td>\n",
              "      <td>March</td>\n",
              "      <td>4541</td>\n",
              "      <td>276.0</td>\n",
              "    </tr>\n",
              "    <tr>\n",
              "      <th>20</th>\n",
              "      <td>Resort Hotel</td>\n",
              "      <td>May</td>\n",
              "      <td>5449</td>\n",
              "      <td>406.0</td>\n",
              "    </tr>\n",
              "    <tr>\n",
              "      <th>21</th>\n",
              "      <td>Resort Hotel</td>\n",
              "      <td>November</td>\n",
              "      <td>3459</td>\n",
              "      <td>125.0</td>\n",
              "    </tr>\n",
              "    <tr>\n",
              "      <th>22</th>\n",
              "      <td>Resort Hotel</td>\n",
              "      <td>October</td>\n",
              "      <td>5015</td>\n",
              "      <td>280.0</td>\n",
              "    </tr>\n",
              "    <tr>\n",
              "      <th>23</th>\n",
              "      <td>Resort Hotel</td>\n",
              "      <td>September</td>\n",
              "      <td>4879</td>\n",
              "      <td>283.0</td>\n",
              "    </tr>\n",
              "  </tbody>\n",
              "</table>\n",
              "</div>"
            ],
            "text/plain": [
              "           hotel arrival_date_month  adults  childs\n",
              "0     City Hotel              April    9805   785.0\n",
              "1     City Hotel             August   13188  1532.0\n",
              "2     City Hotel           December    5688   522.0\n",
              "3     City Hotel           February    6576   518.0\n",
              "4     City Hotel            January    4801   333.0\n",
              "5     City Hotel               July   11535  1201.0\n",
              "6     City Hotel               June    9447   575.0\n",
              "7     City Hotel              March    8989   462.0\n",
              "8     City Hotel                May    9993   493.0\n",
              "9     City Hotel           November    4999   182.0\n",
              "10    City Hotel            October    7566   450.0\n",
              "11    City Hotel          September    7623   382.0\n",
              "12  Resort Hotel              April    5049   376.0\n",
              "13  Resort Hotel             August    9463  1400.0\n",
              "14  Resort Hotel           December    3711   273.0\n",
              "15  Resort Hotel           February    4367   309.0\n",
              "16  Resort Hotel            January    3237   157.0\n",
              "17  Resort Hotel               July    8617  1205.0\n",
              "18  Resort Hotel               June    5278   517.0\n",
              "19  Resort Hotel              March    4541   276.0\n",
              "20  Resort Hotel                May    5449   406.0\n",
              "21  Resort Hotel           November    3459   125.0\n",
              "22  Resort Hotel            October    5015   280.0\n",
              "23  Resort Hotel          September    4879   283.0"
            ]
          },
          "metadata": {},
          "execution_count": 43
        }
      ]
    },
    {
      "cell_type": "code",
      "metadata": {
        "id": "2zYLwDQfLhYA",
        "colab": {
          "base_uri": "https://localhost:8080/"
        },
        "outputId": "a3759e28-5185-4c84-bc12-b7904ed5a6e5"
      },
      "source": [
        "# Only Resort bookings\n",
        "resort = total_bookings.loc[(total_bookings[\"hotel\"] == \"Resort Hotel\")]\n",
        "# Sort arrival date month column by month wise\n",
        "resort['arrival_date_month'] = pd.Categorical(resort['arrival_date_month'], ['January', 'February', 'March', 'April', 'May', 'June', 'July', 'August', 'September', 'October', 'November', 'December'])\n",
        "resort.sort_values(by = 'arrival_date_month',inplace=True)"
      ],
      "execution_count": null,
      "outputs": [
        {
          "output_type": "stream",
          "text": [
            "/usr/local/lib/python3.7/dist-packages/ipykernel_launcher.py:4: SettingWithCopyWarning:\n",
            "\n",
            "\n",
            "A value is trying to be set on a copy of a slice from a DataFrame.\n",
            "Try using .loc[row_indexer,col_indexer] = value instead\n",
            "\n",
            "See the caveats in the documentation: https://pandas.pydata.org/pandas-docs/stable/user_guide/indexing.html#returning-a-view-versus-a-copy\n",
            "\n",
            "/usr/local/lib/python3.7/dist-packages/ipykernel_launcher.py:5: SettingWithCopyWarning:\n",
            "\n",
            "\n",
            "A value is trying to be set on a copy of a slice from a DataFrame\n",
            "\n",
            "See the caveats in the documentation: https://pandas.pydata.org/pandas-docs/stable/user_guide/indexing.html#returning-a-view-versus-a-copy\n",
            "\n"
          ],
          "name": "stderr"
        }
      ]
    },
    {
      "cell_type": "code",
      "metadata": {
        "id": "fslSI7GvLsSO",
        "colab": {
          "base_uri": "https://localhost:8080/"
        },
        "outputId": "2b185cc1-6341-46c5-83e0-61ec6016ba02"
      },
      "source": [
        "print(resort['adults'].max())\n",
        "print(resort['childs'].max())"
      ],
      "execution_count": null,
      "outputs": [
        {
          "output_type": "stream",
          "text": [
            "9463\n",
            "1400.0\n"
          ],
          "name": "stdout"
        }
      ]
    },
    {
      "cell_type": "code",
      "metadata": {
        "id": "rRTZKOJGLxd3",
        "colab": {
          "base_uri": "https://localhost:8080/",
          "height": 404
        },
        "outputId": "6e4728aa-9904-4aff-80c3-726658797f23"
      },
      "source": [
        "#Line plot for finding the number of adults and kids -Resort hotel\n",
        "resort.plot(x = 'arrival_date_month',y= ['adults','childs'],figsize=(10, 6), title = 'Number of adults and childs arrival per month in Resort', xlabel = 'Arrival Date', ylabel = 'Number of guest');"
      ],
      "execution_count": null,
      "outputs": [
        {
          "output_type": "display_data",
          "data": {
            "image/png": "[encoded data removed]",
            "text/plain": [
              "<Figure size 720x432 with 1 Axes>"
            ]
          },
          "metadata": {
            "needs_background": "light"
          }
        }
      ]
    },
    {
      "cell_type": "markdown",
      "metadata": {
        "id": "N9U8XwYR5vKN"
      },
      "source": [
        "Based on the line chart the adults are highly recommend to visit in the Resort Hotel, right from June month to August we have highest number of Adults. \n",
        "The childs are least to visit in Resort Hotel with their family. Throughout all the months the number of childs are normal according to data but from June month to August month the guest number of childs are increasing gradually.  "
      ]
    },
    {
      "cell_type": "markdown",
      "metadata": {
        "id": "QunEPTb7MEG3"
      },
      "source": [
        "# Business Perspective problem statement"
      ]
    },
    {
      "cell_type": "markdown",
      "metadata": {
        "id": "j1L0-THcMqWs"
      },
      "source": [
        "**Analysis no. 15**\n",
        "\n",
        "Booking and cancellation per market segment ?"
      ]
    },
    {
      "cell_type": "code",
      "metadata": {
        "id": "Bsz1573gMt4w",
        "colab": {
          "base_uri": "https://localhost:8080/",
          "height": 343
        },
        "outputId": "3b4173c0-c7a5-4bd3-a978-1f455c7b3b31"
      },
      "source": [
        "plt.figure(figsize=(18,10))\n",
        "plt.subplot(211)\n",
        "sns.countplot(data=hotel_data_copy,x='deposit_type',hue='market_segment')\n",
        "plt.title('Deposit Type for Market Segment')\n"
      ],
      "execution_count": null,
      "outputs": [
        {
          "output_type": "execute_result",
          "data": {
            "text/plain": [
              "Text(0.5, 1.0, 'Deposit Type for Market Segment')"
            ]
          },
          "metadata": {},
          "execution_count": 140
        },
        {
          "output_type": "display_data",
          "data": {
            "image/png": "[encoded data removed]",
            "text/plain": [
              "<Figure size 1296x720 with 1 Axes>"
            ]
          },
          "metadata": {
            "needs_background": "light"
          }
        }
      ]
    },
    {
      "cell_type": "markdown",
      "metadata": {
        "id": "pXXQprdX7zis"
      },
      "source": [
        "We can see from above graph 1 that most the bookings are done through Online TA segment."
      ]
    },
    {
      "cell_type": "code",
      "metadata": {
        "id": "6oau6PUzNMJr",
        "colab": {
          "base_uri": "https://localhost:8080/",
          "height": 326
        },
        "outputId": "279b60b5-e623-45fa-fea6-1f204cea8e87"
      },
      "source": [
        "plt.subplot(212)\n",
        "sns.countplot(data=hotel_data_copy,x='is_canceled',hue='market_segment')\n",
        "plt.title('Cancellation for Market Segment')\n",
        "plt.show()"
      ],
      "execution_count": null,
      "outputs": [
        {
          "output_type": "display_data",
          "data": {
            "image/png": "[encoded data removed]",
            "text/plain": [
              "<Figure size 720x720 with 1 Axes>"
            ]
          },
          "metadata": {
            "needs_background": "light"
          }
        }
      ]
    },
    {
      "cell_type": "markdown",
      "metadata": {
        "id": "Qfe4SfR7NVtq"
      },
      "source": [
        "The above graph shows that most cancellation is also done through online TA segment only. So it precise clearly more about online TA to look up to market segment."
      ]
    },
    {
      "cell_type": "markdown",
      "metadata": {
        "id": "e-Sfnq15NYrX"
      },
      "source": [
        "**Analysis no. 16**\n",
        "\n",
        "Lets see how ADR(average daily rate) change over year, so that we can understand hotel industry is growing by renting their room.\n"
      ]
    },
    {
      "cell_type": "markdown",
      "metadata": {
        "id": "0iJUAQ7VOf4R"
      },
      "source": [
        "\n",
        "Higher the ADR or rising ADR mean hotel is making money through renting , we can see in this bar plot that revenue generated by hotel industry is increasing year by year and also we can say that for each year the revenue is increasing till August month and after August the revenue is decreasing"
      ]
    },
    {
      "cell_type": "code",
      "metadata": {
        "id": "AZI-CevbOhwN"
      },
      "source": [
        "# doing groupby operation to find average ADR for each year by hotel wise\n",
        "mean_adr_of_resort_city_hotel=hotel_data_copy.groupby(['hotel','arrival_date_year'])['adr'].mean().unstack()"
      ],
      "execution_count": null,
      "outputs": []
    },
    {
      "cell_type": "code",
      "metadata": {
        "id": "fwkGHE7bO57f",
        "colab": {
          "base_uri": "https://localhost:8080/",
          "height": 464
        },
        "outputId": "7b9d746e-c983-4e02-8034-6e317176d91d"
      },
      "source": [
        "# plotting bar plot for both hotels mean average daily rate by year wise\n",
        "ax=mean_adr_of_resort_city_hotel.plot.bar(figsize=(10,5),fontsize=16)\n",
        "ax.set_title('Mean ADR of city and resort hotel of year 2015,2016,2017 ',fontsize=16)\n",
        "ax.set_xlabel('Month_name',fontsize=15)\n",
        "ax.set_ylabel('MEAN ADR',fontsize=15)"
      ],
      "execution_count": null,
      "outputs": [
        {
          "output_type": "execute_result",
          "data": {
            "text/plain": [
              "Text(0, 0.5, 'MEAN ADR')"
            ]
          },
          "metadata": {},
          "execution_count": 145
        },
        {
          "output_type": "display_data",
          "data": {
            "image/png": "[encoded data removed]",
            "text/plain": [
              "<Figure size 720x360 with 1 Axes>"
            ]
          },
          "metadata": {
            "needs_background": "light"
          }
        }
      ]
    },
    {
      "cell_type": "markdown",
      "metadata": {
        "id": "765L6r6wPHPK"
      },
      "source": [
        "In city hotel the growth in average daily rate is increasing year by year ,its mean that the hotel is growing their revenue year by year by renting room. In resort hotel also if we talk about year 2015 and year 2017 then growth is visible in bar chart."
      ]
    },
    {
      "cell_type": "markdown",
      "metadata": {
        "id": "mzKmMyR6PQ7s"
      },
      "source": [
        "**Analysis no. 17**\n",
        "\n",
        "Which is the most preferred business segment ?\n"
      ]
    },
    {
      "cell_type": "code",
      "metadata": {
        "id": "5qz6eQI0QLjI",
        "colab": {
          "base_uri": "https://localhost:8080/",
          "height": 492
        },
        "outputId": "d73b612b-ddc6-4ecc-b378-772fa698cfea"
      },
      "source": [
        "# This is a Count plot for finding most prefered market segment \n",
        "fig_dims = (15, 6)\n",
        "fig, ax = plt.subplots(figsize=fig_dims)\n",
        "sns.countplot(hotel_data_copy.market_segment,hue= hotel_data_copy.hotel,ax=ax).set(title = 'Mostly prefered Hotel with respect to market Segment', xlabel = 'Market segmet' , ylabel ='Total Booking');"
      ],
      "execution_count": null,
      "outputs": [
        {
          "output_type": "stream",
          "text": [
            "/usr/local/lib/python3.7/dist-packages/seaborn/_decorators.py:43: FutureWarning:\n",
            "\n",
            "Pass the following variable as a keyword arg: x. From version 0.12, the only valid positional argument will be `data`, and passing other arguments without an explicit keyword will result in an error or misinterpretation.\n",
            "\n"
          ],
          "name": "stderr"
        },
        {
          "output_type": "display_data",
          "data": {
            "image/png": "[encoded data removed]",
            "text/plain": [
              "<Figure size 1080x432 with 1 Axes>"
            ]
          },
          "metadata": {
            "needs_background": "light"
          }
        }
      ]
    },
    {
      "cell_type": "markdown",
      "metadata": {
        "id": "gxAiYqpeB-ff"
      },
      "source": [
        "In the above graph , we observe that\n",
        "\n",
        "*   Online TA , has most no. of hotel Bookings, where they Mostly prefer City Hotel over Resort Hotel. (i.e booking done for City Hotel is almost 35000 & for Resort hotel it is almost half i.e 16000 bookings)\n",
        "*   Followed by Offline TA/TO  Where they also slightly prefer city Hotel more than Resort Hotel.\n",
        "*   Then Comes in line the Direct Market Segment and they prefer Resort hotel than City hotel.\n",
        "*   Later inline we have Groups, Corporate And Complementary Market Segments where they all slightly prefer city hotel over resort hotel.\n",
        "*   last in the line we have Aviation market segment where they only prefer city Hotel.\n",
        "\n",
        "\n",
        "\n",
        "\n",
        "\n"
      ]
    },
    {
      "cell_type": "code",
      "metadata": {
        "id": "yNlSou1iQoZt",
        "colab": {
          "base_uri": "https://localhost:8080/"
        },
        "outputId": "55e227f7-e988-4bc9-9217-9d2311697495"
      },
      "source": [
        "hotel_data_copy.shape"
      ],
      "execution_count": null,
      "outputs": [
        {
          "output_type": "execute_result",
          "data": {
            "text/plain": [
              "(86913, 29)"
            ]
          },
          "metadata": {},
          "execution_count": 149
        }
      ]
    },
    {
      "cell_type": "markdown",
      "metadata": {
        "id": "s-Evhv_aQrI1"
      },
      "source": [
        "For both type of hotel, customer prefer 'online TA' segment for booking"
      ]
    },
    {
      "cell_type": "code",
      "metadata": {
        "id": "75UhvI4RQtx2",
        "colab": {
          "base_uri": "https://localhost:8080/"
        },
        "outputId": "7d7ec490-4fc4-43b1-eb7f-a09beafbef50"
      },
      "source": [
        "# Total booking done by Online TA\n",
        "hotel_data_copy.loc[hotel_data_copy['market_segment']=='Online TA'].hotel.value_counts()"
      ],
      "execution_count": null,
      "outputs": [
        {
          "output_type": "execute_result",
          "data": {
            "text/plain": [
              "City Hotel      34984\n",
              "Resort Hotel    16549\n",
              "Name: hotel, dtype: int64"
            ]
          },
          "metadata": {},
          "execution_count": 151
        }
      ]
    },
    {
      "cell_type": "markdown",
      "metadata": {
        "id": "qZ32juZCeINo"
      },
      "source": [
        "# Conclusion\n",
        "\n",
        "That's how we have accomplished our team work in Hotel Booking Analysis project.\n",
        "\n",
        "Throughout the project we learn many new things right from taking problem statement to understand the technical side of a product to analysis. We deal with missing data and outliers, we tested some of the fundamental statistical assumptions. Python has helped a lot to understand with libraries. \n",
        "\n",
        " To deal with those data was really fun with many different analysis. Data cleaning and dealing with duplicate value was also most important to deal with correct methodology. Understand the dataset and predicting the solution of the problem from team work was also great big task. \n",
        "\n",
        " Hotel Booking Analysis helps hotel industry for marketing strategy, building customer loyalty, and enhancing productivity. It enables hotels to personalize experiences for their guests, introduce better hotel pricing strategies, and expand their customer base. It makes positive industry because -\n",
        "\n",
        "- Customer Data Analysis & Market Segmentation\n",
        "- Real-Time Data and Hotel Pricing Strategies\n",
        "- Managing Hotel Booking Channels\n",
        "and many more we can do to scale up in hotel industry.\n",
        "\n",
        "While working in the exploratory data analysis with team also helps us to work in team collaboration that shows how we should approach and divide a task. Maintaining a discipline in the task and precise to every point what we conclude."
      ]
    }
  ]
}